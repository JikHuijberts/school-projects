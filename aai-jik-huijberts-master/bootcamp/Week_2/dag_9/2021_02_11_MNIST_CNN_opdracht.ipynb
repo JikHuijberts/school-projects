{
 "cells": [
  {
   "cell_type": "markdown",
   "metadata": {
    "id": "zUWF7J_ASRv3"
   },
   "source": [
    "# Herkenning van handgeschreven cijfers met Deep Learning 2\n",
    "\n",
    "## Convolutionele Neurale Netwerken\n",
    "\n",
    "Stijn Oomes\n",
    "\n",
    "donderdag 11 februari 2020"
   ]
  },
  {
   "cell_type": "markdown",
   "metadata": {
    "id": "cRKUniK0SfRg"
   },
   "source": [
    "## Importeer libraries"
   ]
  },
  {
   "cell_type": "code",
   "execution_count": 1,
   "metadata": {
    "id": "S-aMKgrbSl6I"
   },
   "outputs": [],
   "source": [
    "import numpy as np\n",
    "import matplotlib.pyplot as plt\n",
    "from sklearn.preprocessing import OneHotEncoder\n",
    "from keras.utils import to_categorical\n",
    "from keras.regularizers import l2\n",
    "from keras import models, layers\n",
    "\n",
    "from keras.datasets import mnist\n",
    "from keras.layers import Dense, Dropout, Flatten, Conv2D, MaxPooling2D, AveragePooling2D\n"
   ]
  },
  {
   "cell_type": "markdown",
   "metadata": {
    "id": "oe0on0c2StYe"
   },
   "source": [
    "## Verover de data"
   ]
  },
  {
   "cell_type": "code",
   "execution_count": 2,
   "metadata": {
    "colab": {
     "base_uri": "https://localhost:8080/"
    },
    "id": "gh2EoCY-Ssg7",
    "outputId": "f52aab3d-b6e9-4490-d5db-612f49a18e1b"
   },
   "outputs": [],
   "source": [
    "(train_images, train_labels), (test_images, test_labels) = mnist.load_data()"
   ]
  },
  {
   "cell_type": "code",
   "execution_count": 3,
   "metadata": {
    "colab": {
     "base_uri": "https://localhost:8080/"
    },
    "id": "7FlNpFtxSrMQ",
    "outputId": "a51d1184-a362-42ee-86cd-50dd4bd018b0"
   },
   "outputs": [
    {
     "data": {
      "text/plain": [
       "(60000, 28, 28)"
      ]
     },
     "execution_count": 3,
     "metadata": {},
     "output_type": "execute_result"
    }
   ],
   "source": [
    "train_images.shape"
   ]
  },
  {
   "cell_type": "code",
   "execution_count": 4,
   "metadata": {
    "colab": {
     "base_uri": "https://localhost:8080/"
    },
    "id": "284h06knTBBG",
    "outputId": "94093e08-c64b-4a51-97d3-d4907c1df7ef"
   },
   "outputs": [
    {
     "name": "stdout",
     "output_type": "stream",
     "text": [
      "[5 0 4 ... 5 6 8]\n"
     ]
    }
   ],
   "source": [
    "print(train_labels)"
   ]
  },
  {
   "cell_type": "code",
   "execution_count": 5,
   "metadata": {
    "colab": {
     "base_uri": "https://localhost:8080/"
    },
    "id": "FBfuBT6ATHyg",
    "outputId": "f6a74f22-c809-4078-a46c-a55b86f0a39b"
   },
   "outputs": [
    {
     "data": {
      "text/plain": [
       "(60000,)"
      ]
     },
     "execution_count": 5,
     "metadata": {},
     "output_type": "execute_result"
    }
   ],
   "source": [
    "train_labels.shape"
   ]
  },
  {
   "cell_type": "markdown",
   "metadata": {
    "id": "jG7BXYcRYY5a"
   },
   "source": [
    "## Prepareer de images"
   ]
  },
  {
   "cell_type": "code",
   "execution_count": 6,
   "metadata": {
    "colab": {
     "base_uri": "https://localhost:8080/"
    },
    "id": "dDYk2OREYbGD",
    "outputId": "4c29d829-f413-4789-e870-6611d63cf72a"
   },
   "outputs": [
    {
     "data": {
      "text/plain": [
       "(60000, 28, 28)"
      ]
     },
     "execution_count": 6,
     "metadata": {},
     "output_type": "execute_result"
    }
   ],
   "source": [
    "train_images.shape"
   ]
  },
  {
   "cell_type": "markdown",
   "metadata": {
    "id": "NJ6cQ_PvI7CZ"
   },
   "source": [
    "Normaliseer de images!"
   ]
  },
  {
   "cell_type": "code",
   "execution_count": 7,
   "metadata": {
    "id": "bafaBFuypcEY"
   },
   "outputs": [],
   "source": [
    "train_images_normalized = train_images.astype('float32')/255"
   ]
  },
  {
   "cell_type": "code",
   "execution_count": 8,
   "metadata": {
    "id": "qPLYzqeeYeV0"
   },
   "outputs": [],
   "source": [
    "train_images_enhanced = train_images_normalized.reshape(60000,28,28,1)"
   ]
  },
  {
   "cell_type": "code",
   "execution_count": 9,
   "metadata": {
    "colab": {
     "base_uri": "https://localhost:8080/"
    },
    "id": "h3vOWjp2YwS_",
    "outputId": "aaba4242-1580-4a28-f967-c16c39301fff"
   },
   "outputs": [
    {
     "data": {
      "text/plain": [
       "(60000, 28, 28, 1)"
      ]
     },
     "execution_count": 9,
     "metadata": {},
     "output_type": "execute_result"
    }
   ],
   "source": [
    "train_images_enhanced.shape"
   ]
  },
  {
   "cell_type": "code",
   "execution_count": 10,
   "metadata": {
    "id": "Rt4W7_fIYyuA"
   },
   "outputs": [],
   "source": [
    "test_images_normalized = test_images.astype('float32')/255\n",
    "test_images_enhanced = test_images.reshape(10000,28,28,1)"
   ]
  },
  {
   "cell_type": "code",
   "execution_count": 11,
   "metadata": {
    "colab": {
     "base_uri": "https://localhost:8080/"
    },
    "id": "4C3y58dJY5tp",
    "outputId": "a9253636-a47e-4c43-89e1-49e5d7164dc2"
   },
   "outputs": [
    {
     "data": {
      "text/plain": [
       "(10000, 28, 28, 1)"
      ]
     },
     "execution_count": 11,
     "metadata": {},
     "output_type": "execute_result"
    }
   ],
   "source": [
    "test_images_enhanced.shape"
   ]
  },
  {
   "cell_type": "markdown",
   "metadata": {
    "id": "jb2JCpgYUWlu"
   },
   "source": [
    "## Prepareer de labels"
   ]
  },
  {
   "cell_type": "markdown",
   "metadata": {
    "id": "xB3XhWK_D_ZW"
   },
   "source": [
    "**OPDRACHT**: introduceer \"one-hot encoding\" voor de labels (zowel train set als de test set)"
   ]
  },
  {
   "cell_type": "code",
   "execution_count": 12,
   "metadata": {
    "colab": {
     "base_uri": "https://localhost:8080/"
    },
    "id": "GKRqlPkMU6tj",
    "outputId": "4bf786ce-a08f-4074-9299-1618b6ee2e71"
   },
   "outputs": [
    {
     "data": {
      "text/plain": [
       "0"
      ]
     },
     "execution_count": 12,
     "metadata": {},
     "output_type": "execute_result"
    }
   ],
   "source": [
    "train_labels[1]"
   ]
  },
  {
   "cell_type": "code",
   "execution_count": 13,
   "metadata": {
    "id": "8_Jmmw6MUOy-"
   },
   "outputs": [],
   "source": [
    "\n",
    "train_labels_encoded = to_categorical(train_labels)\n",
    "test_labels_encoded = to_categorical(test_labels)"
   ]
  },
  {
   "cell_type": "code",
   "execution_count": 14,
   "metadata": {
    "id": "7V_g1CMBUb_7"
   },
   "outputs": [
    {
     "data": {
      "text/plain": [
       "array([[0., 0., 0., ..., 0., 0., 0.],\n",
       "       [1., 0., 0., ..., 0., 0., 0.],\n",
       "       [0., 0., 0., ..., 0., 0., 0.],\n",
       "       ...,\n",
       "       [0., 0., 0., ..., 0., 0., 0.],\n",
       "       [0., 0., 0., ..., 0., 0., 0.],\n",
       "       [0., 0., 0., ..., 0., 1., 0.]], dtype=float32)"
      ]
     },
     "execution_count": 14,
     "metadata": {},
     "output_type": "execute_result"
    }
   ],
   "source": [
    "train_labels_encoded"
   ]
  },
  {
   "cell_type": "code",
   "execution_count": 15,
   "metadata": {
    "id": "moGVdMDzJDME"
   },
   "outputs": [
    {
     "data": {
      "text/plain": [
       "array([[0., 0., 0., ..., 1., 0., 0.],\n",
       "       [0., 0., 1., ..., 0., 0., 0.],\n",
       "       [0., 1., 0., ..., 0., 0., 0.],\n",
       "       ...,\n",
       "       [0., 0., 0., ..., 0., 0., 0.],\n",
       "       [0., 0., 0., ..., 0., 0., 0.],\n",
       "       [0., 0., 0., ..., 0., 0., 0.]], dtype=float32)"
      ]
     },
     "execution_count": 15,
     "metadata": {},
     "output_type": "execute_result"
    }
   ],
   "source": [
    "test_labels_encoded"
   ]
  },
  {
   "cell_type": "markdown",
   "metadata": {
    "id": "m_2zOWq_ZAY-"
   },
   "source": [
    "## Definieeer netwerk / model"
   ]
  },
  {
   "cell_type": "markdown",
   "metadata": {
    "id": "_cS-T3cWEfZh"
   },
   "source": [
    "**OPDRACHT**: voeg nog een convolutie laag en nog een volledig verbonden laag toe"
   ]
  },
  {
   "cell_type": "code",
   "execution_count": 16,
   "metadata": {
    "id": "yfUEGL0bY77-"
   },
   "outputs": [],
   "source": [
    "cnn = models.Sequential()\n",
    "\n",
    "cnn.add(Conv2D(filters=32,\n",
    "                  kernel_size=(3, 3),\n",
    "                  activation='relu', \n",
    "                  input_shape=(28,28,1)))\n",
    "cnn.add(AveragePooling2D((2,2)))\n",
    "cnn.add(Dropout(0.4))\n",
    "\n",
    "cnn.add(Conv2D(64, (3, 3), activation='relu'))\n",
    "cnn.add(MaxPooling2D((2, 2)))\n",
    "cnn.add(Dropout(0.25))\n",
    "\n",
    "cnn.add(Flatten())\n",
    "cnn.add(Dropout(0.25))\n",
    "# ??? dense laag\n",
    "cnn.add(Dense(64, activation='relu'))\n",
    "cnn.add(Dense(units=10, activation = 'softmax'))"
   ]
  },
  {
   "cell_type": "code",
   "execution_count": 17,
   "metadata": {
    "id": "XsJ8orLUZRR5"
   },
   "outputs": [
    {
     "name": "stdout",
     "output_type": "stream",
     "text": [
      "Model: \"sequential\"\n",
      "_________________________________________________________________\n",
      "Layer (type)                 Output Shape              Param #   \n",
      "=================================================================\n",
      "conv2d (Conv2D)              (None, 26, 26, 32)        320       \n",
      "_________________________________________________________________\n",
      "average_pooling2d (AveragePo (None, 13, 13, 32)        0         \n",
      "_________________________________________________________________\n",
      "dropout (Dropout)            (None, 13, 13, 32)        0         \n",
      "_________________________________________________________________\n",
      "conv2d_1 (Conv2D)            (None, 11, 11, 64)        18496     \n",
      "_________________________________________________________________\n",
      "max_pooling2d (MaxPooling2D) (None, 5, 5, 64)          0         \n",
      "_________________________________________________________________\n",
      "dropout_1 (Dropout)          (None, 5, 5, 64)          0         \n",
      "_________________________________________________________________\n",
      "flatten (Flatten)            (None, 1600)              0         \n",
      "_________________________________________________________________\n",
      "dropout_2 (Dropout)          (None, 1600)              0         \n",
      "_________________________________________________________________\n",
      "dense (Dense)                (None, 64)                102464    \n",
      "_________________________________________________________________\n",
      "dense_1 (Dense)              (None, 10)                650       \n",
      "=================================================================\n",
      "Total params: 121,930\n",
      "Trainable params: 121,930\n",
      "Non-trainable params: 0\n",
      "_________________________________________________________________\n"
     ]
    }
   ],
   "source": [
    "cnn.summary()"
   ]
  },
  {
   "cell_type": "code",
   "execution_count": 18,
   "metadata": {
    "id": "FXYJJMAJa_Tf"
   },
   "outputs": [],
   "source": [
    "cnn.compile(optimizer='adam',\n",
    "            metrics = ['accuracy'],\n",
    "            loss = 'categorical_crossentropy')"
   ]
  },
  {
   "cell_type": "markdown",
   "metadata": {
    "id": "qQqs0gLGGony"
   },
   "source": [
    "**OPDRACHT**: meet hoe lang het trainen duurt\n"
   ]
  },
  {
   "cell_type": "code",
   "execution_count": 19,
   "metadata": {
    "id": "fsCH8KqEbR2P",
    "scrolled": true
   },
   "outputs": [
    {
     "name": "stdout",
     "output_type": "stream",
     "text": [
      "Epoch 1/50\n",
      "118/118 [==============================] - 5s 20ms/step - loss: 1.8992 - accuracy: 0.6291 - val_loss: 25.8505 - val_accuracy: 0.9355\n",
      "Epoch 2/50\n",
      "118/118 [==============================] - 1s 10ms/step - loss: 0.4130 - accuracy: 0.9354 - val_loss: 15.4913 - val_accuracy: 0.9611\n",
      "Epoch 3/50\n",
      "118/118 [==============================] - 1s 10ms/step - loss: 0.2557 - accuracy: 0.9533 - val_loss: 10.1102 - val_accuracy: 0.9709\n",
      "Epoch 4/50\n",
      "118/118 [==============================] - 1s 10ms/step - loss: 0.2075 - accuracy: 0.9602 - val_loss: 8.7663 - val_accuracy: 0.9763\n",
      "Epoch 5/50\n",
      "118/118 [==============================] - 1s 10ms/step - loss: 0.1866 - accuracy: 0.9638 - val_loss: 9.7890 - val_accuracy: 0.9745\n",
      "Epoch 6/50\n",
      "118/118 [==============================] - 1s 11ms/step - loss: 0.1684 - accuracy: 0.9673 - val_loss: 7.8675 - val_accuracy: 0.9786\n",
      "Epoch 7/50\n",
      "118/118 [==============================] - 1s 10ms/step - loss: 0.1603 - accuracy: 0.9696 - val_loss: 7.6304 - val_accuracy: 0.9805\n",
      "Epoch 8/50\n",
      "118/118 [==============================] - 1s 10ms/step - loss: 0.1524 - accuracy: 0.9724 - val_loss: 7.2198 - val_accuracy: 0.9812\n",
      "Epoch 9/50\n",
      "118/118 [==============================] - 1s 10ms/step - loss: 0.1520 - accuracy: 0.9707 - val_loss: 7.5256 - val_accuracy: 0.9807\n",
      "Epoch 10/50\n",
      "118/118 [==============================] - 1s 10ms/step - loss: 0.1473 - accuracy: 0.9736 - val_loss: 7.0291 - val_accuracy: 0.9819\n",
      "Epoch 11/50\n",
      "118/118 [==============================] - 1s 10ms/step - loss: 0.1443 - accuracy: 0.9739 - val_loss: 6.0641 - val_accuracy: 0.9823\n",
      "Epoch 12/50\n",
      "118/118 [==============================] - 1s 10ms/step - loss: 0.1386 - accuracy: 0.9752 - val_loss: 9.1872 - val_accuracy: 0.9779\n",
      "Epoch 13/50\n",
      "118/118 [==============================] - 1s 10ms/step - loss: 0.1414 - accuracy: 0.9747 - val_loss: 9.5175 - val_accuracy: 0.9791\n",
      "Epoch 14/50\n",
      "118/118 [==============================] - 1s 10ms/step - loss: 0.1415 - accuracy: 0.9754 - val_loss: 5.6927 - val_accuracy: 0.9855\n",
      "Epoch 15/50\n",
      "118/118 [==============================] - 1s 10ms/step - loss: 0.1371 - accuracy: 0.9755 - val_loss: 5.6581 - val_accuracy: 0.9845\n",
      "Epoch 16/50\n",
      "118/118 [==============================] - 1s 10ms/step - loss: 0.1353 - accuracy: 0.9757 - val_loss: 5.1346 - val_accuracy: 0.9837\n",
      "Epoch 17/50\n",
      "118/118 [==============================] - 1s 10ms/step - loss: 0.1317 - accuracy: 0.9765 - val_loss: 7.1397 - val_accuracy: 0.9821\n",
      "Epoch 18/50\n",
      "118/118 [==============================] - 1s 10ms/step - loss: 0.1348 - accuracy: 0.9764 - val_loss: 5.3737 - val_accuracy: 0.9856\n",
      "Epoch 19/50\n",
      "118/118 [==============================] - 1s 10ms/step - loss: 0.1335 - accuracy: 0.9767 - val_loss: 6.8110 - val_accuracy: 0.9803\n",
      "Epoch 20/50\n",
      "118/118 [==============================] - 1s 10ms/step - loss: 0.1281 - accuracy: 0.9782 - val_loss: 6.0772 - val_accuracy: 0.9839\n",
      "Epoch 21/50\n",
      "118/118 [==============================] - 1s 11ms/step - loss: 0.1301 - accuracy: 0.9776 - val_loss: 5.0925 - val_accuracy: 0.9871\n",
      "Epoch 22/50\n",
      "118/118 [==============================] - 1s 10ms/step - loss: 0.1248 - accuracy: 0.9803 - val_loss: 5.7751 - val_accuracy: 0.9867\n",
      "Epoch 23/50\n",
      "118/118 [==============================] - ETA: 0s - loss: 0.1254 - accuracy: 0.97 - 1s 10ms/step - loss: 0.1255 - accuracy: 0.9790 - val_loss: 4.5264 - val_accuracy: 0.9871\n",
      "Epoch 24/50\n",
      "118/118 [==============================] - 1s 10ms/step - loss: 0.1314 - accuracy: 0.9785 - val_loss: 5.2908 - val_accuracy: 0.9864\n",
      "Epoch 25/50\n",
      "118/118 [==============================] - 1s 10ms/step - loss: 0.1278 - accuracy: 0.9789 - val_loss: 4.8761 - val_accuracy: 0.9876\n",
      "Epoch 26/50\n",
      "118/118 [==============================] - 1s 10ms/step - loss: 0.1218 - accuracy: 0.9798 - val_loss: 6.0226 - val_accuracy: 0.9854\n",
      "Epoch 27/50\n",
      "118/118 [==============================] - 1s 10ms/step - loss: 0.1171 - accuracy: 0.9810 - val_loss: 6.5416 - val_accuracy: 0.9830\n",
      "Epoch 28/50\n",
      "118/118 [==============================] - 1s 10ms/step - loss: 0.1236 - accuracy: 0.9795 - val_loss: 4.2312 - val_accuracy: 0.9869\n",
      "Epoch 29/50\n",
      "118/118 [==============================] - 1s 10ms/step - loss: 0.1203 - accuracy: 0.9797 - val_loss: 5.4723 - val_accuracy: 0.9856\n",
      "Epoch 30/50\n",
      "118/118 [==============================] - 1s 10ms/step - loss: 0.1168 - accuracy: 0.9808 - val_loss: 4.5605 - val_accuracy: 0.9879\n",
      "Epoch 31/50\n",
      "118/118 [==============================] - 1s 10ms/step - loss: 0.1223 - accuracy: 0.9798 - val_loss: 5.1023 - val_accuracy: 0.9868\n",
      "Epoch 32/50\n",
      "118/118 [==============================] - 1s 10ms/step - loss: 0.1226 - accuracy: 0.9806 - val_loss: 4.6094 - val_accuracy: 0.9875\n",
      "Epoch 33/50\n",
      "118/118 [==============================] - 1s 10ms/step - loss: 0.1227 - accuracy: 0.9791 - val_loss: 4.7100 - val_accuracy: 0.9883\n",
      "Epoch 34/50\n",
      "118/118 [==============================] - 1s 10ms/step - loss: 0.1174 - accuracy: 0.9807 - val_loss: 5.4703 - val_accuracy: 0.9861\n",
      "Epoch 35/50\n",
      "118/118 [==============================] - 1s 10ms/step - loss: 0.1167 - accuracy: 0.9810 - val_loss: 4.8836 - val_accuracy: 0.9868\n",
      "Epoch 36/50\n",
      "118/118 [==============================] - 1s 10ms/step - loss: 0.1157 - accuracy: 0.9818 - val_loss: 5.0499 - val_accuracy: 0.9876\n",
      "Epoch 37/50\n",
      "118/118 [==============================] - 1s 10ms/step - loss: 0.1172 - accuracy: 0.9804 - val_loss: 5.8666 - val_accuracy: 0.9853\n",
      "Epoch 38/50\n",
      "118/118 [==============================] - 1s 10ms/step - loss: 0.1159 - accuracy: 0.9808 - val_loss: 5.1458 - val_accuracy: 0.9871\n",
      "Epoch 39/50\n",
      "118/118 [==============================] - 1s 10ms/step - loss: 0.1113 - accuracy: 0.9828 - val_loss: 4.6555 - val_accuracy: 0.9877\n",
      "Epoch 40/50\n",
      "118/118 [==============================] - 1s 10ms/step - loss: 0.1112 - accuracy: 0.9831 - val_loss: 5.1131 - val_accuracy: 0.9876\n",
      "Epoch 41/50\n",
      "118/118 [==============================] - 1s 10ms/step - loss: 0.1077 - accuracy: 0.9832 - val_loss: 4.9957 - val_accuracy: 0.9872\n",
      "Epoch 42/50\n",
      "118/118 [==============================] - 1s 10ms/step - loss: 0.1154 - accuracy: 0.9815 - val_loss: 4.7749 - val_accuracy: 0.9885\n",
      "Epoch 43/50\n",
      "118/118 [==============================] - 1s 10ms/step - loss: 0.1187 - accuracy: 0.9811 - val_loss: 5.1838 - val_accuracy: 0.9867\n",
      "Epoch 44/50\n",
      "118/118 [==============================] - 1s 10ms/step - loss: 0.1136 - accuracy: 0.9820 - val_loss: 5.3401 - val_accuracy: 0.9855\n",
      "Epoch 45/50\n",
      "118/118 [==============================] - 1s 10ms/step - loss: 0.1106 - accuracy: 0.9818 - val_loss: 5.2448 - val_accuracy: 0.9872\n",
      "Epoch 46/50\n",
      "118/118 [==============================] - 1s 10ms/step - loss: 0.1121 - accuracy: 0.9822 - val_loss: 5.6385 - val_accuracy: 0.9871\n",
      "Epoch 47/50\n",
      "118/118 [==============================] - 1s 10ms/step - loss: 0.1118 - accuracy: 0.9817 - val_loss: 6.0416 - val_accuracy: 0.9847\n",
      "Epoch 48/50\n",
      "118/118 [==============================] - 1s 10ms/step - loss: 0.1080 - accuracy: 0.9828 - val_loss: 6.0297 - val_accuracy: 0.9865\n",
      "Epoch 49/50\n",
      "118/118 [==============================] - 1s 10ms/step - loss: 0.1162 - accuracy: 0.9810 - val_loss: 5.2224 - val_accuracy: 0.9872\n",
      "Epoch 50/50\n",
      "118/118 [==============================] - 1s 10ms/step - loss: 0.1073 - accuracy: 0.9830 - val_loss: 4.3809 - val_accuracy: 0.9885\n",
      "62.88550043106079\n"
     ]
    }
   ],
   "source": [
    "import time\n",
    "start_time = time.time()\n",
    "history_cnn = cnn.fit(train_images_enhanced,\n",
    "        train_labels_encoded,\n",
    "        epochs = 50,\n",
    "        batch_size = 512,\n",
    "        validation_data = (test_images_enhanced, test_labels_encoded))\n",
    "end_time = time.time()\n",
    "result = end_time - start_time\n",
    "print(result)"
   ]
  },
  {
   "cell_type": "markdown",
   "metadata": {
    "id": "hYi1uJV-Gxgn"
   },
   "source": [
    "**OPDRACHT**: meet hoe lang het testen duurt"
   ]
  },
  {
   "cell_type": "code",
   "execution_count": 20,
   "metadata": {
    "id": "S52r-pcHbtJJ"
   },
   "outputs": [
    {
     "name": "stdout",
     "output_type": "stream",
     "text": [
      "313/313 [==============================] - 1s 3ms/step - loss: 4.3809 - accuracy: 0.9885\n",
      "0.9884999990463257\n",
      "313/313 [==============================] - 1s 3ms/step - loss: 4.3809 - accuracy: 0.9885\n",
      "0.9884999990463257\n",
      "313/313 [==============================] - 1s 3ms/step - loss: 4.3809 - accuracy: 0.9885\n",
      "0.9884999990463257\n",
      "313/313 [==============================] - 1s 3ms/step - loss: 4.3809 - accuracy: 0.9885\n",
      "0.9884999990463257\n",
      "313/313 [==============================] - 1s 3ms/step - loss: 4.3809 - accuracy: 0.9885\n",
      "0.9884999990463257\n",
      "313/313 [==============================] - 1s 3ms/step - loss: 4.3809 - accuracy: 0.9885\n",
      "0.9884999990463257\n",
      "313/313 [==============================] - 1s 3ms/step - loss: 4.3809 - accuracy: 0.9885\n",
      "0.9884999990463257\n",
      "313/313 [==============================] - 1s 3ms/step - loss: 4.3809 - accuracy: 0.9885\n",
      "0.9884999990463257\n",
      "933 ms ± 43.7 ms per loop (mean ± std. dev. of 7 runs, 1 loop each)\n"
     ]
    }
   ],
   "source": [
    "%%timeit\n",
    "loss, acc = cnn.evaluate(test_images_enhanced,\n",
    "                         test_labels_encoded)\n",
    "\n",
    "print(acc)"
   ]
  },
  {
   "cell_type": "code",
   "execution_count": 21,
   "metadata": {
    "id": "fspLE94uj_0p"
   },
   "outputs": [
    {
     "data": {
      "image/png": "[encoded data removed]",
      "text/plain": [
       "<Figure size 432x288 with 1 Axes>"
      ]
     },
     "metadata": {
      "needs_background": "light"
     },
     "output_type": "display_data"
    }
   ],
   "source": [
    "plt.plot(history_cnn.history['accuracy'])\n",
    "plt.plot(history_cnn.history['val_accuracy'])\n",
    "plt.ylim(0.75,1.0)\n",
    "plt.show()"
   ]
  },
  {
   "cell_type": "markdown",
   "metadata": {
    "id": "PKVFGXpIFa-v"
   },
   "source": [
    "**OPDRACHT**: evalueer je resultaten:\n",
    "\n",
    "* hoe is de nauwkeurigheid?\n",
    "* is het netwerk onder- of over-trained?\n",
    "* wat kun je nog doen om de nauwkeurigheid te verhogen?\n",
    "\n",
    "(noteer de veranderingen die je hebt aangebracht en wat daar de resultaten van zijn)\n",
    "De naukeurigheid is aanzienlijk beter dan de kNN en de NN.\n",
    "\n",
    "Veranderingen:\n",
    "MaxPooling in de middelste laag gezet, (2,2) bij de lagen gezet. Dit gaf een verhoging van 0.01. Daarna Dropouts getweakt om een top te krijgen van 0.9932\n",
    "  Het gebruik van een regularizer werkte voor mij niet en maakte minder grote stappen als verwacht en liet de accuracy niet boven de 0.99 stijgen.\n",
    "\n",
    "Meer veranderingen maken en kijken wat er verbeterd. En mogelijk een andere regulizer gebruiken of andere waarden gebruiken daarvoor ipv l2(0.01)."
   ]
  },
  {
   "cell_type": "markdown",
   "metadata": {
    "id": "ycBT1S6wIK7y"
   },
   "source": [
    "## Evalueer cijferherkenning met kNN, NN, en CNN"
   ]
  },
  {
   "cell_type": "markdown",
   "metadata": {
    "id": "xm7oOIZxGFYw"
   },
   "source": [
    "**OPDRACHT**: evalueer je resultaten:\n",
    "\n",
    "vergelijk de resultaten van kNN, NN, en CNN\n",
    "\n",
    "* wat concludeer je hieruit?\n",
    "* welke type fouten maken de verschillende classifiers?\n",
    "\n",
    "\n"
   ]
  },
  {
   "cell_type": "markdown",
   "metadata": {},
   "source": [
    "Er is een verschil tussen kNN, NN en CNN met het testen en het fitten. Cnn is aanzienlijk sneller met het testen en bij Knn is dat andersom"
   ]
  },
  {
   "cell_type": "markdown",
   "metadata": {
    "id": "xTdfwGeRGjCB"
   },
   "source": [
    "CNN werkt beter dan kNN en NN\n",
    "kNN maakt soms logische fouten en fouten die lastig zijn voor de mens om het goed te hebben.\n",
    "\n",
    "NN is hier beter in maar doet hetzelfde.\n",
    "\n",
    "CNN maakt alleen fouten die voor mensen lastig zijn.\n"
   ]
  },
  {
   "cell_type": "code",
   "execution_count": null,
   "metadata": {},
   "outputs": [],
   "source": []
  }
 ],
 "metadata": {
  "accelerator": "GPU",
  "colab": {
   "collapsed_sections": [],
   "name": "2021_02_11 MNIST CNN opdracht.ipynb",
   "provenance": []
  },
  "kernelspec": {
   "display_name": "Python 3",
   "language": "python",
   "name": "python3"
  },
  "language_info": {
   "codemirror_mode": {
    "name": "ipython",
    "version": 3
   },
   "file_extension": ".py",
   "mimetype": "text/x-python",
   "name": "python",
   "nbconvert_exporter": "python",
   "pygments_lexer": "ipython3",
   "version": "3.8.5"
  }
 },
 "nbformat": 4,
 "nbformat_minor": 1
}
