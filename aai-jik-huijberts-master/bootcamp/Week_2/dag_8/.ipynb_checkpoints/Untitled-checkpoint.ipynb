{
 "cells": [
  {
   "cell_type": "markdown",
   "metadata": {},
   "source": [
    "## Bevindingen Tensorflow Playground\n",
    "https://playground.tensorflow.org/"
   ]
  },
  {
   "cell_type": "markdown",
   "metadata": {},
   "source": [
    "##### 1; Welke activatiefuncties zijn er en wat is hun doel?\n",
    "\n",
    "\n",
    "##### 2; Wat is de learning rate?\n",
    "De ratio van de neuronen om aan te passen. Dus als het laag is zijn er minder drastische veranderingen. Maakt het trager, daarnaast wel meer rustig en accuraat\n",
    "\n",
    "##### 3; Wat doet regularization?\n",
    "\n",
    "##### 4; Heeft het bewerken van de input zin?\n",
    "Ja bij verschillende combinaties heb ik gezien dat de \n",
    "\n",
    "##### 5; Wat is het verschil tussen classificatie en regressie?"
   ]
  },
  {
   "cell_type": "markdown",
   "metadata": {},
   "source": [
    "### Classification"
   ]
  },
  {
   "cell_type": "markdown",
   "metadata": {},
   "source": [
    "### Regression"
   ]
  },
  {
   "cell_type": "code",
   "execution_count": null,
   "metadata": {},
   "outputs": [],
   "source": []
  }
 ],
 "metadata": {
  "kernelspec": {
   "display_name": "Python 3",
   "language": "python",
   "name": "python3"
  },
  "language_info": {
   "codemirror_mode": {
    "name": "ipython",
    "version": 3
   },
   "file_extension": ".py",
   "mimetype": "text/x-python",
   "name": "python",
   "nbconvert_exporter": "python",
   "pygments_lexer": "ipython3",
   "version": "3.8.5"
  }
 },
 "nbformat": 4,
 "nbformat_minor": 4
}
