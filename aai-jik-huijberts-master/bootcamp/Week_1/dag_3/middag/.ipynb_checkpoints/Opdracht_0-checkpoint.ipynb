{
 "cells": [
  {
   "cell_type": "markdown",
   "metadata": {
    "_cell_guid": "337d2561-9751-43ab-85b0-1ff1eb484a50",
    "_uuid": "2cdd31268c6901e4be816854bd57c9e757c066ec"
   },
   "source": [
    "## Hello !!\n",
    "\n",
    "This notebook is sort of a start on important concepts in Machine Learning like \n",
    "\n",
    "1)Feature Selection\n",
    "\n",
    "2)Model selection\n",
    "\n",
    "3)Input validation\n",
    "\n",
    "....\n",
    "\n",
    "Excuus vooraf half Nederlands/Engels document.\n"
   ]
  },
  {
   "cell_type": "code",
   "execution_count": null,
   "metadata": {
    "_cell_guid": "0cb67764-53d0-4532-bd46-0d244615eb22",
    "_uuid": "d2792fa5793698bcab3aca4e99c5cba382edc042"
   },
   "outputs": [],
   "source": [
    "# Import nodige modules\n",
    "\n",
    "import pandas as pd\n",
    "import matplotlib.pyplot as plt\n",
    "import seaborn as sns\n",
    "import numpy as np\n",
    "import itertools\n",
    "plt.style.use('fivethirtyeight')\n"
   ]
  },
  {
   "cell_type": "markdown",
   "metadata": {},
   "source": [
    "### Opdracht 1: \n",
    "Gebruik pandas (pd) om het bestand diabetes.csv in te lezen en toe te kennen aan diab variabele. "
   ]
  },
  {
   "cell_type": "code",
   "execution_count": null,
   "metadata": {
    "_cell_guid": "f2ebf534-cd7d-40cb-94f1-d01d3b47854b",
    "_uuid": "7701a4dec64aac2cb2207d948daac81609fce014"
   },
   "outputs": [],
   "source": []
  },
  {
   "cell_type": "markdown",
   "metadata": {
    "_cell_guid": "0e022346-7c51-4286-a6a3-02bb594d368b",
    "_uuid": "09f9a42a9b766b0895f15ee8a20236ccf20a3edb"
   },
   "source": [
    "### Opdracht 2:\n",
    "Check de data zijn alle records in de tabel juist.\n",
    "Maak drie tests in python om te zien of de data correct is. \n",
    "\n",
    "TIP: het pandas object heeft hiervoor ook een aantal ingebouwde functies. (desscribe())"
   ]
  },
  {
   "cell_type": "code",
   "execution_count": null,
   "metadata": {
    "_cell_guid": "931c0fa8-1a89-4b3f-80cb-f5e3892cab3c",
    "_uuid": "6f867ac1b1d695f031ade5ab50d1e7b354369057"
   },
   "outputs": [],
   "source": []
  },
  {
   "cell_type": "markdown",
   "metadata": {
    "_cell_guid": "f495e65e-93d2-42b3-9f40-e2c412264312",
    "_uuid": "7a503dd630720dd8d8b2ac55d16d3a8f6fea8239",
    "collapsed": true
   },
   "source": [
    "### Opdracht 3:\n",
    "\n",
    "Hoeveel gevallen van diabetes zijn er?\n",
    "Is het volgens jouw een probleem dat er een verschil is tussen het aantal diabetes gevallen en geen diabetes?\n",
    "Kan je een uitspraak doen over het aantal mannen?\n",
    "\n",
    "Reken de waarden hieronder uit.\n"
   ]
  },
  {
   "cell_type": "code",
   "execution_count": null,
   "metadata": {
    "_cell_guid": "364e6842-8a4b-4993-bad8-0aa67a4fa541",
    "_uuid": "3ee22c0b27b1a221d8a01f6b7cf67114d5d1ac0e"
   },
   "outputs": [],
   "source": [
    "\n",
    "\n",
    "\n",
    "\n"
   ]
  },
  {
   "cell_type": "markdown",
   "metadata": {
    "_cell_guid": "6cc6058a-062a-4292-a6fb-bd873a537711",
    "_uuid": "5ee171bf18e79548189aae81dfa0761dc2ec6917"
   },
   "source": [
    "### Een korte analyse.\n",
    "\n",
    "Bekijk de onderstaande plots, valt er iets op? "
   ]
  },
  {
   "cell_type": "code",
   "execution_count": null,
   "metadata": {
    "_cell_guid": "5920f160-a4f9-43db-944b-017fef35ffab",
    "_uuid": "183d0cd54b205fb5d3e1e1b2113d93b54f80aaec"
   },
   "outputs": [],
   "source": [
    "columns=diab.columns[:9]\n",
    "plt.subplots(figsize=(18,15))\n",
    "length=len(columns)\n",
    "for i,j in itertools.zip_longest(columns,range(length)):\n",
    "    plt.subplot((length/2),3,j+1)\n",
    "    plt.subplots_adjust(wspace=0.2,hspace=0.5)\n",
    "    diab[i].hist(bins=20,edgecolor='black')\n",
    "    plt.title(i)\n",
    "plt.show()"
   ]
  },
  {
   "cell_type": "markdown",
   "metadata": {},
   "source": [
    "Wat valt er op?\n",
    "\n",
    "\n"
   ]
  },
  {
   "cell_type": "markdown",
   "metadata": {
    "_cell_guid": "9737bf15-480f-4a80-aa4e-2f335bbd1434",
    "_uuid": "c09beedb6314e0c543c6d93352f1f99a0762f74d"
   },
   "source": [
    "### Opgave 5:\n",
    "\n",
    "Doe de zelfde test maar selecteer nu alleen op de gevallen met diabetes. Is er een verschill met de plots waarin alle gevallen staan. Geef een motivatie? \n",
    "\n",
    "Bevatten sommige kolommen ongeldige waarden?\n",
    "\n",
    "Repareer de tabel zo dat er geen nul waarden instaan? \n",
    "\n",
    "Welke waarde zou je kiezen als vervanging van de nul waarden?\n",
    "\n",
    "\n",
    "TIP: Maak eerst een tabel met alleen de diabetes gevallen. "
   ]
  },
  {
   "cell_type": "code",
   "execution_count": null,
   "metadata": {
    "_cell_guid": "df002cd5-d2fa-4c78-a828-8dd436e38489",
    "_uuid": "0bed26690fe961b76bba8048426ce4279fe34e70"
   },
   "outputs": [],
   "source": []
  },
  {
   "cell_type": "markdown",
   "metadata": {
    "_cell_guid": "d1714227-b678-4590-a1f3-65418ee42983",
    "_uuid": "68fff0bba19fa506cb14a6fa4ca838bc5a5e6d1a"
   },
   "source": [
    "### Laten we eens wat voorspellen!\n",
    "\n",
    "Gevraagd bekijk van eenieder hierondergenoemde classifier de mediawiki pagina. \n",
    "Welke denk je dat voor ons probleem het meeste geschikt is en waarom?\n",
    "\n",
    "\n",
    "Wat zijn de verschillen tussen de clasifier?\n",
    "\n",
    "Om welke reden zou je een bepaalde clasifier keizen?\n",
    ".\n",
    ".\n",
    ".\n",
    ".\n",
    ".\n",
    ".\n",
    ".\n",
    ".\n",
    "\n"
   ]
  },
  {
   "cell_type": "code",
   "execution_count": null,
   "metadata": {
    "_cell_guid": "3492b216-111e-4bff-8655-649c467d05dd",
    "_uuid": "a4523a727c262dde118f48f10852441c138bbbe9"
   },
   "outputs": [],
   "source": [
    "# Importeen aantal standaard systeem voor machine-learning\n",
    "\n",
    "from sklearn import svm\n",
    "from sklearn.neighbors import KNeighborsClassifier\n",
    "from sklearn.tree import DecisionTreeClassifier\n",
    "from sklearn.linear_model import LogisticRegression\n",
    "\n",
    "from sklearn.model_selection import train_test_split\n",
    "from sklearn import metrics\n",
    "import warnings\n",
    "warnings.filterwarnings('ignore')"
   ]
  },
  {
   "cell_type": "markdown",
   "metadata": {
    "_cell_guid": "f948a9ec-cf4c-4b0c-8255-cbfbbc3d9a58",
    "_uuid": "aa1227d23a4f5b53268ecb111604d1eaa9023f54"
   },
   "source": [
    "### Opdracht 6:\n",
    "\n",
    "Zoek uit wat er in het onderstaande blok gebeurt, geef hieronder de beschijving:\n",
    "\n",
    ".\n",
    ".\n",
    ".\n",
    ".\n",
    ".\n",
    ".\n",
    ".\n",
    ".\n",
    ".\n",
    ".\n",
    ".\n",
    ".\n",
    ".\n",
    ".\n",
    "."
   ]
  },
  {
   "cell_type": "code",
   "execution_count": null,
   "metadata": {
    "_cell_guid": "36345868-0e3d-4bc3-8b0d-fe9d4d020cb9",
    "_uuid": "5c5fff2094840f3dec40ee70b760116423a68057"
   },
   "outputs": [],
   "source": [
    "# De code hieronder is absuluut noodzakelijk voor een ML training.\n",
    "\n",
    "outcome=diab['Outcome']\n",
    "data=diab[diab.columns[:8]]\n",
    "train,test=train_test_split(diab,test_size=0.25,random_state=0,stratify=diab['Outcome'])# stratify the outcome\n",
    "train_X=train[train.columns[:8]]\n",
    "test_X=test[test.columns[:8]]\n",
    "train_Y=train['Outcome']\n",
    "test_Y=test['Outcome']"
   ]
  },
  {
   "cell_type": "code",
   "execution_count": null,
   "metadata": {
    "_cell_guid": "2c2ccd13-f1cc-4ae3-8cc2-b16789944e8b",
    "_uuid": "419e9b6e00fcd6c5ddf8b6a960ca22ab58077eb3"
   },
   "outputs": [],
   "source": [
    "train_X.head(2)"
   ]
  },
  {
   "cell_type": "code",
   "execution_count": null,
   "metadata": {
    "_cell_guid": "80066677-3032-49b4-af09-110ee1e20f83",
    "_uuid": "731f83e0ffdda584c9454133bc5f907b4205cdfc"
   },
   "outputs": [],
   "source": [
    "train_Y.head(2)"
   ]
  },
  {
   "cell_type": "markdown",
   "metadata": {
    "_cell_guid": "efa32cb6-4dac-4905-abe5-4e808197bfc7",
    "_uuid": "e17ee6e52773b9936bc6be87adfba86a155844a1"
   },
   "source": [
    "### SVM"
   ]
  },
  {
   "cell_type": "code",
   "execution_count": null,
   "metadata": {
    "_cell_guid": "9887e614-fb5a-4067-a059-271ac6d994b3",
    "_uuid": "728b32875673127f319cf9d45d4a848cdc8aed31"
   },
   "outputs": [],
   "source": [
    "types=['rbf','linear']\n",
    "for i in types:\n",
    "    model=svm.SVC(kernel=i)\n",
    "    model.fit(train_X,train_Y)\n",
    "    prediction=model.predict(test_X)\n",
    "    print('Accuracy for SVM kernel=',i,'is',metrics.accuracy_score(prediction,test_Y))"
   ]
  },
  {
   "cell_type": "markdown",
   "metadata": {
    "_cell_guid": "72e6654b-2c01-4f22-9c58-6aed889d458d",
    "_uuid": "1f0cd5a502b787d63761b87c00456ce570357da5"
   },
   "source": [
    "### Logistic Regression"
   ]
  },
  {
   "cell_type": "code",
   "execution_count": null,
   "metadata": {
    "_cell_guid": "099625fb-d9ed-484f-9599-8e05fd39c9b7",
    "_uuid": "55d6acaa51e5df9132763e87c0c70ed2008b2456"
   },
   "outputs": [],
   "source": [
    "model = LogisticRegression()\n",
    "model.fit(train_X,train_Y)\n",
    "prediction=model.predict(test_X)\n",
    "print('The accuracy of the Logistic Regression is',metrics.accuracy_score(prediction,test_Y))"
   ]
  },
  {
   "cell_type": "markdown",
   "metadata": {
    "_cell_guid": "902eb2cd-5ea4-4288-a94a-03b0e0cf1379",
    "_uuid": "069c0bada2a225d5f7915029160b8168e4dd8771"
   },
   "source": [
    "### Opdracht :\n",
    "Maak voor de decision tree classifier een getraind model en test de nauwkeurigheid.\n",
    "\n"
   ]
  },
  {
   "cell_type": "code",
   "execution_count": null,
   "metadata": {
    "_cell_guid": "cc47efd2-f2a1-437c-8bbf-e9ca099066df",
    "_uuid": "ed96e98502d5bada87b40cc2e69889999abefac1"
   },
   "outputs": [],
   "source": [
    "model=DecisionTreeClassifier()\n",
    "\n",
    "\n",
    "\n",
    "\n"
   ]
  },
  {
   "cell_type": "markdown",
   "metadata": {
    "_cell_guid": "f1bb369d-7c6d-4c93-ab4b-a44895e3eb48",
    "_uuid": "6e1396a981a019de67d863edd784995eda77a724"
   },
   "source": [
    "### Alle systemen op een rijtje.\n"
   ]
  },
  {
   "cell_type": "code",
   "execution_count": null,
   "metadata": {
    "_cell_guid": "9b23851c-0819-4f96-9932-15f9f445a930",
    "_uuid": "3973357baed566d5f3dc484506a6a0c1a3938856"
   },
   "outputs": [],
   "source": [
    "abc=[]\n",
    "classifiers=['Linear Svm','Radial Svm','Logistic Regression','KNN','Decision Tree']\n",
    "models=[svm.SVC(kernel='linear'),svm.SVC(kernel='rbf'),LogisticRegression(),KNeighborsClassifier(n_neighbors=3),DecisionTreeClassifier()]\n",
    "for i in models:\n",
    "    model = i\n",
    "    model.fit(train_X,train_Y)\n",
    "    prediction=model.predict(test_X)\n",
    "    abc.append(metrics.accuracy_score(prediction,test_Y))\n",
    "models_dataframe=pd.DataFrame(abc,index=classifiers)   \n",
    "models_dataframe.columns=['Accuracy']\n",
    "models_dataframe"
   ]
  },
  {
   "cell_type": "markdown",
   "metadata": {
    "_cell_guid": "2c1f0b59-cf6c-4d01-9c1e-d8a6e185e10d",
    "_uuid": "a0f1bc9771625fade491871b7f0310a73b9e43dd"
   },
   "source": [
    "The above algorithms are not giving vey high accuracy. This can be improved by using Feature Selection and using only relevant features. We can also use ensembling or averaging of different algorithms. I will do these things in subsequent parts."
   ]
  },
  {
   "cell_type": "markdown",
   "metadata": {
    "_cell_guid": "3a7c30af-d1a8-4e79-8ba0-1b30cd16d1b1",
    "_uuid": "449c2e9a459aab17f4c68d7eb3a001d4bf4f92cd"
   },
   "source": [
    "## Feature Extraction/ Selection:\n",
    "1)A lot many features can affect the accuracy of the algorithm.\n",
    "\n",
    "2)Feature Extraction means to select only the important features in-order to improve the accuracy of the algorithm.\n",
    "\n",
    "3)It reduces training time and reduces overfitting\n",
    "\n",
    "4)We can choose important features in 2 ways:\n",
    "\n",
    "a)Correlation matrix--> selecting only the uncorrelated features.\n",
    "\n",
    "b)RandomForestClassifier--> It gives the importance of the features"
   ]
  },
  {
   "cell_type": "markdown",
   "metadata": {
    "_cell_guid": "80af19a0-ad28-4989-8a25-19c7a1d19e89",
    "_uuid": "9100cd0a022e875f95e527ad5a8c1bbd49a74965",
    "collapsed": true
   },
   "source": [
    "### Correlation Matrix"
   ]
  },
  {
   "cell_type": "code",
   "execution_count": null,
   "metadata": {
    "_cell_guid": "034d0d6b-34a7-4a3d-a1ba-a1b6a50848d8",
    "_uuid": "adfadc5ef5c8b901d7abee2981bedf18a5add07f"
   },
   "outputs": [],
   "source": [
    "sns.heatmap(diab[diab.columns[:8]].corr(),annot=True,cmap='RdYlGn')\n",
    "fig=plt.gcf()\n",
    "fig.set_size_inches(10,8)\n",
    "plt.show()"
   ]
  },
  {
   "cell_type": "markdown",
   "metadata": {},
   "source": [
    "### Vraag: Wat zie je in de correlatie matrix zegt het iets over de features, en zo ja wat?"
   ]
  },
  {
   "cell_type": "code",
   "execution_count": null,
   "metadata": {
    "_cell_guid": "b3830717-b30d-4d81-aa08-476dab5c3948",
    "_uuid": "9050d261535cacfe5ea0d6283b747a7ec25750b3"
   },
   "outputs": [],
   "source": [
    "from sklearn.ensemble import RandomForestClassifier \n",
    "model= RandomForestClassifier(n_estimators=100,random_state=0)\n",
    "X=diab[diab.columns[:8]]\n",
    "Y=diab['Outcome']\n",
    "model.fit(X,Y)\n",
    "pd.Series(model.feature_importances_,index=X.columns).sort_values(ascending=False)"
   ]
  },
  {
   "cell_type": "markdown",
   "metadata": {
    "_cell_guid": "88bb0462-0caf-4e63-9ca2-b8da6d31eb21",
    "_uuid": "061d92f855b34661fc84da49cee38c1e1153f262"
   },
   "source": [
    "### Gevraagd :Observations:\n",
    "\n",
    "Wat betekenen de verschillende getallen in de velden. Wat is een  correlatie matrix?"
   ]
  },
  {
   "cell_type": "markdown",
   "metadata": {
    "_cell_guid": "f11632b8-4bc6-4820-941a-b8bc22a5d4d6",
    "_uuid": "c8fb4fc2bd247e5040bb6f3535a28ab53fcb2acb"
   },
   "source": [
    "### Vraag wat zijn volgens jouw de belangrijkste features voor het bepalen van diabetes?\n",
    "\n",
    ".\n",
    ".\n",
    ".\n",
    ".\n",
    ".\n",
    ".\n",
    ".\n",
    "..\n",
    ".\n"
   ]
  },
  {
   "cell_type": "markdown",
   "metadata": {
    "_cell_guid": "96c0b887-fad4-404e-9eff-7f3148abb320",
    "_uuid": "d756cba8451cf20b0742b8bc4a0d85ab6252768e"
   },
   "source": [
    "### Opdracht x:\n",
    "\n",
    "Selecteer uit de dataset nu alleen de belangrijkste features en train en test de voorgaande modelen. \n",
    "Zijn de resultaten op de naukeurigheid toegenomen of juist niet?"
   ]
  },
  {
   "cell_type": "code",
   "execution_count": null,
   "metadata": {},
   "outputs": [],
   "source": [
    "# Maak nu op basis van het nieuw getraind model een kleine app(in het notebook) \n",
    "# dat vraagt om de features en voorspelt of er sprake is van diabetes.\n",
    "\n",
    "# Succes.\n",
    "\n",
    "\n",
    "\n"
   ]
  },
  {
   "cell_type": "markdown",
   "metadata": {
    "_cell_guid": "45957540-f205-44ad-9699-3a2c13566871",
    "_uuid": "9847075bd7b70a4116ac2c01c07048b72ddb6738",
    "collapsed": true
   },
   "source": [
    "# Laatste opdracht: bewaar dit notebook op je persoonlijke gitlab project in een folder genaamd bootcamp/notebooks\n",
    "    "
   ]
  },
  {
   "cell_type": "code",
   "execution_count": null,
   "metadata": {},
   "outputs": [],
   "source": []
  }
 ],
 "metadata": {
  "kernelspec": {
   "display_name": "Python 3",
   "language": "python",
   "name": "python3"
  },
  "language_info": {
   "codemirror_mode": {
    "name": "ipython",
    "version": 3
   },
   "file_extension": ".py",
   "mimetype": "text/x-python",
   "name": "python",
   "nbconvert_exporter": "python",
   "pygments_lexer": "ipython3",
   "version": "3.8.5"
  }
 },
 "nbformat": 4,
 "nbformat_minor": 1
}
