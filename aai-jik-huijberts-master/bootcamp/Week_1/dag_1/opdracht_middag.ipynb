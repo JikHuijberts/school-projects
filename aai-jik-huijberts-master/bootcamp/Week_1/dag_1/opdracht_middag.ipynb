{
 "cells": [
  {
   "cell_type": "markdown",
   "metadata": {},
   "source": [
    "# Hello World Script"
   ]
  },
  {
   "cell_type": "markdown",
   "metadata": {},
   "source": [
    "## This is the first assignment of day 1 using jupyter"
   ]
  },
  {
   "cell_type": "markdown",
   "metadata": {},
   "source": [
    "1.\tPrint \"hello world\" naar scherm."
   ]
  },
  {
   "cell_type": "code",
   "execution_count": 1,
   "metadata": {},
   "outputs": [
    {
     "name": "stdout",
     "output_type": "stream",
     "text": [
      "hello world\n"
     ]
    }
   ],
   "source": [
    "print(\"hello world\")\n"
   ]
  },
  {
   "cell_type": "markdown",
   "metadata": {},
   "source": [
    "2.\tMaak een variabele hw die de tekst \"hello world bevat\" en print deze ook."
   ]
  },
  {
   "cell_type": "code",
   "execution_count": 2,
   "metadata": {},
   "outputs": [
    {
     "name": "stdout",
     "output_type": "stream",
     "text": [
      "Hello world\n"
     ]
    }
   ],
   "source": [
    "hw = \"Hello world\"\n",
    "print(hw)"
   ]
  },
  {
   "cell_type": "markdown",
   "metadata": {},
   "source": [
    "3.\tPrint de derde letter van \"hello world\""
   ]
  },
  {
   "cell_type": "code",
   "execution_count": 3,
   "metadata": {},
   "outputs": [
    {
     "name": "stdout",
     "output_type": "stream",
     "text": [
      "l\n"
     ]
    }
   ],
   "source": [
    "print(hw[2])"
   ]
  },
  {
   "cell_type": "markdown",
   "metadata": {},
   "source": [
    "4.\tPrint het eerste woord van \"hello world\""
   ]
  },
  {
   "cell_type": "code",
   "execution_count": 4,
   "metadata": {},
   "outputs": [
    {
     "name": "stdout",
     "output_type": "stream",
     "text": [
      "Hello\n"
     ]
    }
   ],
   "source": [
    "print(hw.split(\" \")[0])"
   ]
  },
  {
   "cell_type": "markdown",
   "metadata": {},
   "source": [
    "5.\tPrint de laatste letter van \"hello world\""
   ]
  },
  {
   "cell_type": "code",
   "execution_count": 5,
   "metadata": {},
   "outputs": [
    {
     "name": "stdout",
     "output_type": "stream",
     "text": [
      "d\n"
     ]
    }
   ],
   "source": [
    "print(hw[-1])"
   ]
  },
  {
   "cell_type": "markdown",
   "metadata": {},
   "source": [
    "6.\tMaak een functie die \"hello world\" print."
   ]
  },
  {
   "cell_type": "code",
   "execution_count": 6,
   "metadata": {},
   "outputs": [],
   "source": [
    "def print_hello_world():\n",
    "    '''prints \"hello world\"'''\n",
    "    print(\"Hello World\")"
   ]
  },
  {
   "cell_type": "markdown",
   "metadata": {},
   "source": [
    "7.\tMaak een functie die \"hello world\" teruggeeft."
   ]
  },
  {
   "cell_type": "code",
   "execution_count": 7,
   "metadata": {},
   "outputs": [],
   "source": [
    "def return_hello_world():\n",
    "    '''returns \"hello world\"'''\n",
    "    return \"Hello World\""
   ]
  },
  {
   "cell_type": "markdown",
   "metadata": {},
   "source": [
    "8.\tMaak een functie die een meegegeven tekst print\n",
    "9.\tMaak een functie die een meegegeven variabele print\n"
   ]
  },
  {
   "cell_type": "code",
   "execution_count": 8,
   "metadata": {},
   "outputs": [],
   "source": [
    "def print_hi(name):\n",
    "    '''prints a given name'''\n",
    "    print(name)"
   ]
  },
  {
   "cell_type": "markdown",
   "metadata": {},
   "source": [
    "##### Testing 7/8/9 "
   ]
  },
  {
   "cell_type": "code",
   "execution_count": 9,
   "metadata": {},
   "outputs": [
    {
     "name": "stdout",
     "output_type": "stream",
     "text": [
      "Hello World\n",
      "Hello World\n",
      "Hello World\n",
      "Hello world\n"
     ]
    }
   ],
   "source": [
    "'''Test all the values'''\n",
    "print_hello_world()\n",
    "print(return_hello_world())\n",
    "print_hi(\"Hello World\")\n",
    "print_hi(hw)"
   ]
  },
  {
   "cell_type": "markdown",
   "metadata": {},
   "source": [
    "## Kopje Jupyter"
   ]
  },
  {
   "cell_type": "markdown",
   "metadata": {},
   "source": [
    "De opdrachten die gemaakt zijn in het kopje jupiter zitten overal in de applicatie verwerkt. Hier een voorbeeld van een header en een markdown. De file die is gesaved in dag 1/middag."
   ]
  },
  {
   "cell_type": "markdown",
   "metadata": {},
   "source": [
    "## Sommetjes en lijstjes"
   ]
  },
  {
   "cell_type": "markdown",
   "metadata": {},
   "source": [
    "1.\tReken 1+1 uit"
   ]
  },
  {
   "cell_type": "code",
   "execution_count": 10,
   "metadata": {},
   "outputs": [
    {
     "name": "stdout",
     "output_type": "stream",
     "text": [
      "2\n"
     ]
    }
   ],
   "source": [
    "print(1+1)"
   ]
  },
  {
   "cell_type": "markdown",
   "metadata": {},
   "source": [
    "2.\tMaak lijstje a=[1,2,3,4,5,6,7,8,9,10], gebruik range()"
   ]
  },
  {
   "cell_type": "code",
   "execution_count": 11,
   "metadata": {},
   "outputs": [
    {
     "name": "stdout",
     "output_type": "stream",
     "text": [
      "216\n"
     ]
    }
   ],
   "source": [
    "a = list(range(1,11,1))\n",
    "\n",
    "'''a. Maak het lijstje b=[11,12,13,14,15] en plak deze erachteraan'''\n",
    "b = list(range(11,17,1))\n",
    "a.extend(b)\n",
    "'''b. Tel 5 bij elk element op, gebruik list comprehension'''\n",
    "a = [value+5 for value in a]\n",
    "'''c.Neem vervolgens de som'''\n",
    "print(sum(a))"
   ]
  },
  {
   "cell_type": "markdown",
   "metadata": {},
   "source": [
    "3.\tReken ∑𝑖 uit voor i=100"
   ]
  },
  {
   "cell_type": "code",
   "execution_count": 12,
   "metadata": {},
   "outputs": [
    {
     "name": "stdout",
     "output_type": "stream",
     "text": [
      "5050\n"
     ]
    }
   ],
   "source": [
    "c = sum(list(range(1,101,1)))\n",
    "print(c)"
   ]
  },
  {
   "cell_type": "markdown",
   "metadata": {},
   "source": [
    "## Kopje Meer functies en conditionals"
   ]
  },
  {
   "cell_type": "markdown",
   "metadata": {},
   "source": [
    "1.\tKijk wat de volgende operators doen:"
   ]
  },
  {
   "cell_type": "code",
   "execution_count": 13,
   "metadata": {},
   "outputs": [
    {
     "name": "stdout",
     "output_type": "stream",
     "text": [
      "False\n",
      "True\n",
      "True\n",
      "False\n",
      "False\n",
      "True\n"
     ]
    }
   ],
   "source": [
    "print(5==6)\n",
    "print(5!=6)\n",
    "print(5<6)\n",
    "print(5>6)\n",
    "print(5>=6)\n",
    "print(5<=6)"
   ]
  },
  {
   "cell_type": "markdown",
   "metadata": {},
   "source": [
    "2. Kijk wat de \"in\" operator doet:"
   ]
  },
  {
   "cell_type": "code",
   "execution_count": 14,
   "metadata": {},
   "outputs": [
    {
     "name": "stdout",
     "output_type": "stream",
     "text": [
      "True\n",
      "True\n",
      "False\n"
     ]
    }
   ],
   "source": [
    "print('s' in 'Mississippi') # single chars\n",
    "print('sip' in 'Mississippi') # substrings\n",
    "print('mis' in 'Mississippi') # case-sensitive"
   ]
  },
  {
   "cell_type": "markdown",
   "metadata": {},
   "source": [
    "3.\tMaak een functie die 2 string variabelen aan elkaar plakt en print"
   ]
  },
  {
   "cell_type": "code",
   "execution_count": 15,
   "metadata": {},
   "outputs": [
    {
     "name": "stdout",
     "output_type": "stream",
     "text": [
      "textother text\n",
      "not two strings\n",
      "not two strings\n",
      "not two strings\n"
     ]
    }
   ],
   "source": [
    "def add_two_strings(s1,s2):\n",
    "    '''Bouw een controle in of het wel string variabelen zijn'''\n",
    "    if(isinstance(s1,str) and isinstance(s2, str)):\n",
    "        combined = s1 + s2\n",
    "        print(combined)\n",
    "    else:\n",
    "        print(\"not two strings\")\n",
    "\n",
    "'''Tests'''\n",
    "add_two_strings(\"text\", \"other text\")\n",
    "add_two_strings(1, \"other text\")\n",
    "add_two_strings(\"text\", 2)\n",
    "add_two_strings(2, 2)"
   ]
  },
  {
   "cell_type": "code",
   "execution_count": 16,
   "metadata": {},
   "outputs": [],
   "source": [
    "def add_two_integers(i1,i2):\n",
    "    combined = i1 + i2\n",
    "    print(combined)"
   ]
  },
  {
   "cell_type": "markdown",
   "metadata": {},
   "source": [
    "- Alleen als de tweede groter is dan de eerste"
   ]
  },
  {
   "cell_type": "code",
   "execution_count": 17,
   "metadata": {},
   "outputs": [],
   "source": [
    "def add_two_integers_when_i2_is_bigger(i1,i2):\n",
    "    '''Checks if the second value is \n",
    "    bigger is so the function will add the values'''\n",
    "    if(i1 < i2) :\n",
    "        print(i1+i2)\n",
    "    else:\n",
    "        print(\"The first value is bigger or equal\")"
   ]
  },
  {
   "cell_type": "markdown",
   "metadata": {},
   "source": [
    "##### De tweede opdracht van 4 en opdracht 5  zijn omgewisseld omdat opdracht 4 de functie van opdracht 5 gebruikt"
   ]
  },
  {
   "cell_type": "markdown",
   "metadata": {},
   "source": [
    "5.\tTel steeds 1 op bij het laagste getal tot ze gelijk zijn en geef dan dat getal terug. Print de tussenresultaten"
   ]
  },
  {
   "cell_type": "code",
   "execution_count": 18,
   "metadata": {},
   "outputs": [
    {
     "name": "stdout",
     "output_type": "stream",
     "text": [
      "lower value: 3 Higher value: 9\n",
      "lower value: 4 Higher value: 9\n",
      "lower value: 5 Higher value: 9\n",
      "lower value: 6 Higher value: 9\n",
      "lower value: 7 Higher value: 9\n",
      "lower value: 8 Higher value: 9\n",
      "9 now equals 9\n",
      "lower value: 3 Higher value: 9\n",
      "lower value: 4 Higher value: 9\n",
      "lower value: 5 Higher value: 9\n",
      "lower value: 6 Higher value: 9\n",
      "lower value: 7 Higher value: 9\n",
      "lower value: 8 Higher value: 9\n",
      "9 now equals 9\n",
      "4 now equals 4\n"
     ]
    }
   ],
   "source": [
    "def add_till_equal(low, high):\n",
    "    '''Function to add values till equal'''\n",
    "    if low > high:\n",
    "        v1 = high\n",
    "        high = low\n",
    "        low = v1\n",
    "    while(low < high):\n",
    "        print(\"lower value: \" + str(low) + \" Higher value: \" + str(high))\n",
    "        low += 1\n",
    "    print(str(low) + \" now equals \" + str(high))\n",
    "    \n",
    "'''Tests'''\n",
    "add_till_equal(3,9)\n",
    "add_till_equal(9,3)\n",
    "add_till_equal(4,4)"
   ]
  },
  {
   "cell_type": "markdown",
   "metadata": {},
   "source": [
    "- Alleen als ze gelijk zijn"
   ]
  },
  {
   "cell_type": "code",
   "execution_count": 19,
   "metadata": {},
   "outputs": [],
   "source": [
    "def add_integers_when_equal(i1,i2):\n",
    "    if(i1 == i2):\n",
    "        print(i1+i2)\n",
    "    else:\n",
    "        add_till_equal(i1, i2) if i1 < i2 else add_till_equal(i2,i1)"
   ]
  },
  {
   "cell_type": "markdown",
   "metadata": {},
   "source": [
    "Check if the function is correct"
   ]
  },
  {
   "cell_type": "code",
   "execution_count": 20,
   "metadata": {},
   "outputs": [
    {
     "name": "stdout",
     "output_type": "stream",
     "text": [
      "lower value: 3 Higher value: 6\n",
      "lower value: 4 Higher value: 6\n",
      "lower value: 5 Higher value: 6\n",
      "6 now equals 6\n",
      "6\n",
      "lower value: 3 Higher value: 6\n",
      "lower value: 4 Higher value: 6\n",
      "lower value: 5 Higher value: 6\n",
      "6 now equals 6\n"
     ]
    }
   ],
   "source": [
    "add_integers_when_equal(3,6)\n",
    "add_integers_when_equal(3,3)\n",
    "add_integers_when_equal(6,3)"
   ]
  },
  {
   "cell_type": "markdown",
   "metadata": {},
   "source": [
    "6.\tVermenigvuldig het eerste getal met pi en print vervolgens het grootste getal"
   ]
  },
  {
   "cell_type": "code",
   "execution_count": 21,
   "metadata": {},
   "outputs": [
    {
     "name": "stdout",
     "output_type": "stream",
     "text": [
      "6\n",
      "9.42477796076938\n",
      "3.141592653589793\n"
     ]
    }
   ],
   "source": [
    "from math import pi\n",
    "\n",
    "def times_pi_and_compare(i1,i2):\n",
    "    value = i1 * pi\n",
    "    if(value > i2):\n",
    "        print(value)\n",
    "    else:\n",
    "        print(i2)\n",
    "        \n",
    "'''Check if the function is correct'''\n",
    "times_pi_and_compare(1,6)\n",
    "times_pi_and_compare(3,6)\n",
    "times_pi_and_compare(1,1*pi)"
   ]
  },
  {
   "cell_type": "markdown",
   "metadata": {},
   "source": [
    "## Kopje Dictionary"
   ]
  },
  {
   "cell_type": "code",
   "execution_count": 22,
   "metadata": {},
   "outputs": [
    {
     "name": "stdout",
     "output_type": "stream",
     "text": [
      "{'a': 1, 'b': 20, 'c': 5}\n",
      "key: a\n",
      "value: 1\n",
      "key: b\n",
      "value: 20\n",
      "key: c\n",
      "value: 5\n",
      "value: 1\n",
      "value: 20\n",
      "value: 5\n",
      "key: a\n",
      "key: b\n",
      "key: c\n",
      "value: 1\n",
      "value: 5\n",
      "value: 20\n"
     ]
    }
   ],
   "source": [
    "'''Add c to dictionary'''\n",
    "a = {'a':1,'b':20}\n",
    "a['c'] = 5\n",
    "print(a)\n",
    "'''loop trough keys and values'''\n",
    "for key, value in a.items():\n",
    "    print(\"key: \" + str(key))\n",
    "    print(\"value: \" + str(value))\n",
    "'''loop trough values'''\n",
    "for value in a.values():\n",
    "    print(\"value: \" + str(value))\n",
    "\n",
    "'''loop trough sorted keys'''\n",
    "for key in sorted(a.keys()):\n",
    "    print(\"key: \" + str(key))\n",
    "    \n",
    "'''loop trough sorted values'''\n",
    "for value in sorted(a.values()):\n",
    "    print(\"value: \" + str(value))"
   ]
  },
  {
   "cell_type": "markdown",
   "metadata": {},
   "source": [
    "•\tSchrijf functie die een dict gebruikt om aantal letters te tellen in een zin "
   ]
  },
  {
   "cell_type": "code",
   "execution_count": 1,
   "metadata": {},
   "outputs": [
    {
     "name": "stdout",
     "output_type": "stream",
     "text": [
      "('a', 19)\n",
      "('b', 5)\n",
      "('c', 14)\n",
      "('d', 9)\n",
      "('e', 50)\n",
      "('f', 2)\n",
      "('g', 8)\n",
      "('i', 33)\n",
      "('j', 2)\n",
      "('l', 24)\n",
      "('m', 13)\n",
      "('n', 19)\n",
      "('o', 14)\n",
      "('p', 9)\n",
      "('q', 5)\n",
      "('r', 17)\n",
      "('s', 22)\n",
      "('t', 32)\n",
      "('u', 29)\n",
      "('v', 2)\n",
      "('x', 1)\n"
     ]
    }
   ],
   "source": [
    "import string\n",
    "lorem = \"Lorem ipsum dolor sit amet, consectetur adipiscing elit. Etiam ac libero a nisi luctus tristique sed ut justo. Integer nec blandit ex. Nulla interdum semper congue. Ut a aliquet lacus, eget ultrices orci. Pellentesque eu nunc quis ipsum mattis placerat sed eget elit. Integer feugiat, justo eu porta elementum, eros nisl eleifend libero, vel dapibus libero turpis vel elit. Aliquam nec condimentum augue.\"\n",
    "\n",
    "def dict_to_count_letters(centence):\n",
    "    'Verwijder spaties en interpunctie'\n",
    "    centence.lower().strip()\n",
    "    text = centence.lower().strip().replace(\" \", \"\")\n",
    "    text = text.translate(str.maketrans('', '', string.punctuation))\n",
    "    'Voeg letters toe aan ditct'\n",
    "    letterDict = {}\n",
    "    for l in text:\n",
    "        if l in letterDict:\n",
    "            letterDict[l] += 1\n",
    "        else:\n",
    "            letterDict[l] = 1\n",
    "    return letterDict\n",
    "\n",
    "'''Print elke item'''\n",
    "for item in sorted(dict_to_count_letters(lorem).items()):\n",
    "    print(item)"
   ]
  },
  {
   "cell_type": "code",
   "execution_count": null,
   "metadata": {},
   "outputs": [],
   "source": []
  }
 ],
 "metadata": {
  "kernelspec": {
   "display_name": "Python 3",
   "language": "python",
   "name": "python3"
  },
  "language_info": {
   "codemirror_mode": {
    "name": "ipython",
    "version": 3
   },
   "file_extension": ".py",
   "mimetype": "text/x-python",
   "name": "python",
   "nbconvert_exporter": "python",
   "pygments_lexer": "ipython3",
   "version": "3.8.5"
  }
 },
 "nbformat": 4,
 "nbformat_minor": 5
}
