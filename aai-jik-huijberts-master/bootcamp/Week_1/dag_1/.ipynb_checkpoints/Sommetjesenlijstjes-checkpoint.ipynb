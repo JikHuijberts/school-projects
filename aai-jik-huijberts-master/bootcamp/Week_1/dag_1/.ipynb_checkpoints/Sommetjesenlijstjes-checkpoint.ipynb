{
 "cells": [
  {
   "cell_type": "code",
   "execution_count": 1,
   "id": "technological-museum",
   "metadata": {},
   "outputs": [
    {
     "name": "stdout",
     "output_type": "stream",
     "text": [
      "2\n"
     ]
    }
   ],
   "source": [
    "print(1+1)"
   ]
  },
  {
   "cell_type": "code",
   "execution_count": 2,
   "id": "bibliographic-teacher",
   "metadata": {},
   "outputs": [],
   "source": [
    "a = list(range(1,11,1))"
   ]
  },
  {
   "cell_type": "code",
   "execution_count": 3,
   "id": "determined-amsterdam",
   "metadata": {},
   "outputs": [],
   "source": [
    "b = list(range(11,17,1))"
   ]
  },
  {
   "cell_type": "code",
   "execution_count": 4,
   "id": "figured-throat",
   "metadata": {},
   "outputs": [],
   "source": [
    "a.extend(b)"
   ]
  },
  {
   "cell_type": "code",
   "execution_count": 5,
   "id": "looking-disco",
   "metadata": {},
   "outputs": [],
   "source": [
    "a = [value+5 for value in a]"
   ]
  },
  {
   "cell_type": "code",
   "execution_count": 6,
   "id": "brutal-given",
   "metadata": {},
   "outputs": [
    {
     "name": "stdout",
     "output_type": "stream",
     "text": [
      "216\n"
     ]
    }
   ],
   "source": [
    "print(sum(a))"
   ]
  },
  {
   "cell_type": "code",
   "execution_count": 7,
   "id": "cardiac-russell",
   "metadata": {},
   "outputs": [],
   "source": [
    "c = sum(list(range(1,101,1)))"
   ]
  },
  {
   "cell_type": "code",
   "execution_count": 8,
   "id": "popular-crowd",
   "metadata": {},
   "outputs": [
    {
     "name": "stdout",
     "output_type": "stream",
     "text": [
      "5050\n"
     ]
    }
   ],
   "source": [
    "print(c)"
   ]
  },
  {
   "cell_type": "code",
   "execution_count": null,
   "id": "parental-sheep",
   "metadata": {},
   "outputs": [],
   "source": []
  }
 ],
 "metadata": {
  "kernelspec": {
   "display_name": "Python 3",
   "language": "python",
   "name": "python3"
  },
  "language_info": {
   "codemirror_mode": {
    "name": "ipython",
    "version": 3
   },
   "file_extension": ".py",
   "mimetype": "text/x-python",
   "name": "python",
   "nbconvert_exporter": "python",
   "pygments_lexer": "ipython3",
   "version": "3.8.7"
  }
 },
 "nbformat": 4,
 "nbformat_minor": 5
}
