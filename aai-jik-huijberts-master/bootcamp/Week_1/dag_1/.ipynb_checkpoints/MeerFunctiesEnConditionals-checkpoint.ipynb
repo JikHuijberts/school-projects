{
 "cells": [
  {
   "cell_type": "code",
   "execution_count": 1,
   "id": "monthly-stability",
   "metadata": {},
   "outputs": [
    {
     "name": "stdout",
     "output_type": "stream",
     "text": [
      "False\n",
      "True\n",
      "True\n",
      "False\n",
      "False\n",
      "True\n"
     ]
    }
   ],
   "source": [
    "print(5==6)\n",
    "print(5!=6)\n",
    "print(5<6)\n",
    "print(5>6)\n",
    "print(5>=6)\n",
    "print(5<=6)"
   ]
  },
  {
   "cell_type": "code",
   "execution_count": 2,
   "id": "peaceful-venue",
   "metadata": {},
   "outputs": [
    {
     "name": "stdout",
     "output_type": "stream",
     "text": [
      "True\n",
      "True\n",
      "False\n"
     ]
    }
   ],
   "source": [
    "print('s' in 'Mississippi')\n",
    "print('sip' in 'Mississippi')\n",
    "print('mis' in 'Mississippi')"
   ]
  },
  {
   "cell_type": "code",
   "execution_count": 14,
   "id": "oriental-bulgaria",
   "metadata": {},
   "outputs": [],
   "source": [
    "def add_two_strings(s1,s2):\n",
    "    if(str(s1) and str(s2)):\n",
    "        combined = s1 + s2\n",
    "        print(combined)\n",
    "    else:\n",
    "        print(\"not two strings\")"
   ]
  },
  {
   "cell_type": "code",
   "execution_count": 15,
   "id": "hollow-failure",
   "metadata": {},
   "outputs": [],
   "source": [
    "def add_two_integers(i1,i2):\n",
    "    combined = i1 + i2\n",
    "    print(combined)"
   ]
  },
  {
   "cell_type": "code",
   "execution_count": 26,
   "id": "approximate-concept",
   "metadata": {},
   "outputs": [],
   "source": [
    "def add_two_integers_when_i2_is_bigger(i1,i2):\n",
    "    '''Checks if the second value is \n",
    "    bigger is so the function will add the values'''\n",
    "    if(i1 < i2) :\n",
    "        print(i1+i2)\n",
    "    else:\n",
    "        print(\"The first value is bigger\")\n"
   ]
  },
  {
   "cell_type": "code",
   "execution_count": 31,
   "id": "dense-start",
   "metadata": {},
   "outputs": [],
   "source": [
    "def add_till_equal(low, high):\n",
    "    while(low < high):\n",
    "        print(\"lower value: \" + str(low) + \" Higher value: \" + str(high))\n",
    "        low += 1\n",
    "    print(str(low) + \" now equals \" + str(high))"
   ]
  },
  {
   "cell_type": "code",
   "execution_count": 32,
   "id": "supreme-rubber",
   "metadata": {},
   "outputs": [],
   "source": [
    "def add_integers_when_equal(i1,i2):\n",
    "    '''Adds two integers together if both values are equal'''\n",
    "    if(i1 == i2):\n",
    "        print(i1+i2)\n",
    "    else:\n",
    "        add_till_equal(i1, i2) if i1 < i2 else add_till_equal(i2,i1)"
   ]
  },
  {
   "cell_type": "code",
   "execution_count": 34,
   "id": "micro-orange",
   "metadata": {},
   "outputs": [
    {
     "name": "stdout",
     "output_type": "stream",
     "text": [
      "lower value: 3 Higher value: 6\n",
      "lower value: 4 Higher value: 6\n",
      "lower value: 5 Higher value: 6\n",
      "6 now equals 6\n",
      "6\n",
      "lower value: 3 Higher value: 6\n",
      "lower value: 4 Higher value: 6\n",
      "lower value: 5 Higher value: 6\n",
      "6 now equals 6\n"
     ]
    }
   ],
   "source": [
    "add_integers_when_equal(3,6)\n",
    "add_integers_when_equal(3,3)\n",
    "add_integers_when_equal(6,3)"
   ]
  },
  {
   "cell_type": "code",
   "execution_count": 35,
   "id": "affected-outside",
   "metadata": {},
   "outputs": [
    {
     "name": "stdout",
     "output_type": "stream",
     "text": [
      "6\n",
      "9.42477796076938\n",
      "3.141592653589793\n"
     ]
    }
   ],
   "source": [
    "from math import pi\n",
    "\n",
    "def times_pi_and_compare(i1,i2):\n",
    "    value = i1 * pi\n",
    "    if(value > i2):\n",
    "        print(value)\n",
    "    else:\n",
    "        print(i2)\n",
    "        \n",
    "times_pi_and_compare(1,6)\n",
    "times_pi_and_compare(3,6)\n",
    "times_pi_and_compare(1,1*pi)"
   ]
  },
  {
   "cell_type": "code",
   "execution_count": 40,
   "id": "behind-audience",
   "metadata": {},
   "outputs": [
    {
     "name": "stdout",
     "output_type": "stream",
     "text": [
      "{'a': 1, 'b': 20, 'c': 5}\n",
      "5\n",
      "key: a\n",
      "value: 1\n",
      "key: b\n",
      "value: 20\n",
      "key: c\n",
      "value: 5\n",
      "value: 1\n",
      "value: 20\n",
      "value: 5\n",
      "key: a\n",
      "key: b\n",
      "key: c\n",
      "value: 1\n",
      "value: 5\n",
      "value: 20\n"
     ]
    }
   ],
   "source": [
    "'''Add c to dictionary'''\n",
    "a = {'a':1,'b':20}\n",
    "a['c'] = 5\n",
    "print(a)\n",
    "'''loop trough keys and values'''\n",
    "for key, value in a.items():\n",
    "    print(\"key: \" + str(key))\n",
    "    print(\"value: \" + str(value))\n",
    "'''loop trough values'''\n",
    "for value in a.values():\n",
    "    print(\"value: \" + str(value))\n",
    "\n",
    "'''loop trough sorted keys'''\n",
    "for key in sorted(a.keys()):\n",
    "    print(\"key: \" + str(key))\n",
    "    \n",
    "'''loop trough sorted values'''\n",
    "for value in sorted(a.values()):\n",
    "    print(\"value: \" + str(value))"
   ]
  },
  {
   "cell_type": "code",
   "execution_count": 50,
   "id": "serial-census",
   "metadata": {},
   "outputs": [
    {
     "name": "stdout",
     "output_type": "stream",
     "text": [
      "('a', 19)\n",
      "('b', 5)\n",
      "('c', 14)\n",
      "('d', 9)\n",
      "('e', 50)\n",
      "('f', 2)\n",
      "('g', 8)\n",
      "('i', 33)\n",
      "('j', 2)\n",
      "('l', 24)\n",
      "('m', 13)\n",
      "('n', 19)\n",
      "('o', 14)\n",
      "('p', 9)\n",
      "('q', 5)\n",
      "('r', 17)\n",
      "('s', 22)\n",
      "('t', 32)\n",
      "('u', 29)\n",
      "('v', 2)\n",
      "('x', 1)\n"
     ]
    }
   ],
   "source": [
    "import string\n",
    "lorem = \"Lorem ipsum dolor sit amet, consectetur adipiscing elit. Etiam ac libero a nisi luctus tristique sed ut justo. Integer nec blandit ex. Nulla interdum semper congue. Ut a aliquet lacus, eget ultrices orci. Pellentesque eu nunc quis ipsum mattis placerat sed eget elit. Integer feugiat, justo eu porta elementum, eros nisl eleifend libero, vel dapibus libero turpis vel elit. Aliquam nec condimentum augue.\"\n",
    "\n",
    "def dict_to_count_letters(centence):\n",
    "    centence.lower().strip()\n",
    "    text = centence.lower().strip().replace(\" \", \"\")\n",
    "    text = text.translate(str.maketrans('', '', string.punctuation))\n",
    "    letterDict = {}\n",
    "    for l in text:\n",
    "        if l in letterDict:\n",
    "            letterDict[l] += 1\n",
    "        else:\n",
    "            letterDict[l] = 1\n",
    "    return letterDict\n",
    "\n",
    "for item in sorted(dict_to_count_letters(lorem).items()):\n",
    "    print(item)"
   ]
  },
  {
   "cell_type": "code",
   "execution_count": null,
   "id": "cognitive-intellectual",
   "metadata": {},
   "outputs": [],
   "source": []
  }
 ],
 "metadata": {
  "kernelspec": {
   "display_name": "Python 3",
   "language": "python",
   "name": "python3"
  },
  "language_info": {
   "codemirror_mode": {
    "name": "ipython",
    "version": 3
   },
   "file_extension": ".py",
   "mimetype": "text/x-python",
   "name": "python",
   "nbconvert_exporter": "python",
   "pygments_lexer": "ipython3",
   "version": "3.8.7"
  }
 },
 "nbformat": 4,
 "nbformat_minor": 5
}
