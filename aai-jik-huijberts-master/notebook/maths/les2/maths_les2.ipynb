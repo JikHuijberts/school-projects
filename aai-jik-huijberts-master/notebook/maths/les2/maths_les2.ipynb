{
 "cells": [
  {
   "cell_type": "markdown",
   "metadata": {},
   "source": [
    "# Wiskunde Les 2"
   ]
  },
  {
   "cell_type": "markdown",
   "metadata": {
    "toc": true
   },
   "source": [
    "<h1>Table of Contents<span class=\"tocSkip\"></span></h1>\n",
    "<div class=\"toc\"><ul class=\"toc-item\"><li><span><a href=\"#Wiskunde-Les-2\" data-toc-modified-id=\"Wiskunde-Les-2-1\">Wiskunde Les 2</a></span><ul class=\"toc-item\"><li><span><a href=\"#Basis-differentieren\" data-toc-modified-id=\"Basis-differentieren-1.1\">Basis differentieren</a></span><ul class=\"toc-item\"><li><span><a href=\"#Basisfuncties---met-afgeleide\" data-toc-modified-id=\"Basisfuncties---met-afgeleide-1.1.1\">Basisfuncties - met afgeleide</a></span></li><li><span><a href=\"#Goniometrische-functies---met-afgeleide\" data-toc-modified-id=\"Goniometrische-functies---met-afgeleide-1.1.2\">Goniometrische functies - met afgeleide</a></span></li><li><span><a href=\"#Exponentiële-en-logaritmische-functies-–-met-afgeleide\" data-toc-modified-id=\"Exponentiële-en-logaritmische-functies-–-met-afgeleide-1.1.3\">Exponentiële en logaritmische functies – met afgeleide</a></span></li><li><span><a href=\"#Opgaven-Differentiëren\" data-toc-modified-id=\"Opgaven-Differentiëren-1.1.4\">Opgaven Differentiëren</a></span></li></ul></li><li><span><a href=\"#Regels\" data-toc-modified-id=\"Regels-1.2\">Regels</a></span><ul class=\"toc-item\"><li><span><a href=\"#Somregel\" data-toc-modified-id=\"Somregel-1.2.1\">Somregel</a></span></li><li><span><a href=\"#Productregel\" data-toc-modified-id=\"Productregel-1.2.2\">Productregel</a></span></li><li><span><a href=\"#Quotiëntregel\" data-toc-modified-id=\"Quotiëntregel-1.2.3\">Quotiëntregel</a></span></li><li><span><a href=\"#Kettingregel\" data-toc-modified-id=\"Kettingregel-1.2.4\">Kettingregel</a></span></li><li><span><a href=\"#Opgaven-Differentiëren\" data-toc-modified-id=\"Opgaven-Differentiëren-1.2.5\">Opgaven Differentiëren</a></span></li></ul></li><li><span><a href=\"#Bewijzen-dat-je-diverse-activatiefuncties-kan-differentiëren.\" data-toc-modified-id=\"Bewijzen-dat-je-diverse-activatiefuncties-kan-differentiëren.-1.3\">Bewijzen dat je diverse activatiefuncties kan differentiëren.</a></span></li><li><span><a href=\"#Huiswerkopgaven-voor-volgende-les\" data-toc-modified-id=\"Huiswerkopgaven-voor-volgende-les-1.4\">Huiswerkopgaven voor volgende les</a></span></li><li><span><a href=\"#Verschillende-activatiefuncties\" data-toc-modified-id=\"Verschillende-activatiefuncties-1.5\">Verschillende activatiefuncties</a></span></li><li><span><a href=\"#Vertellen-wat-activatiefuncties-zijn.\" data-toc-modified-id=\"Vertellen-wat-activatiefuncties-zijn.-1.6\">Vertellen wat activatiefuncties zijn.</a></span></li><li><span><a href=\"#Activiatie-functies-in-de-AI\" data-toc-modified-id=\"Activiatie-functies-in-de-AI-1.7\">Activiatie functies in de AI</a></span></li></ul></li><li><span><a href=\"#Bronnen\" data-toc-modified-id=\"Bronnen-2\">Bronnen</a></span></li></ul></div>"
   ]
  },
  {
   "cell_type": "markdown",
   "metadata": {},
   "source": [
    "## Basis differentieren"
   ]
  },
  {
   "cell_type": "markdown",
   "metadata": {},
   "source": [
    "Differentieren wordt veel in de wiskunde gebruikt. Met differtiëren kan je de afgeleide van een functie bepalen. Met de afgeleide functie kan je de helling van de afgeleide functie bepalen."
   ]
  },
  {
   "cell_type": "markdown",
   "metadata": {},
   "source": [
    "### Basisfuncties - met afgeleide"
   ]
  },
  {
   "cell_type": "markdown",
   "metadata": {},
   "source": [
    "|$$f(x)$$| $$f'(x)$$ |\n",
    "|---|---|\n",
    "|$$f(x) = c,\\text{ met c een constante}$$|$$f'(x) = 0 \\text{ omdat } \\Delta y=0$$|\n",
    "|$$f(x) = ax + b $$| $$f'(x) = a, \\text{omdat a = rc}$$|\n",
    "|$$f(x) = x^n$$|$$f'(x) = nx^{n-1}$$\n",
    "|$$f(x) = \\sqrt{x} = x^{\\dfrac{1}{2}}$$|$$f'(x) = \\dfrac{1}{2}x^{-\\dfrac{1}{2}} = \\dfrac{1}{2\\sqrt{x}}$$|\n",
    "|$$f(x) = \\dfrac{1}{x} = x^{-1}$$|$$f'(x) = -x^{-2} = \\dfrac{-1}{x^2}$$|"
   ]
  },
  {
   "cell_type": "markdown",
   "metadata": {},
   "source": [
    "### Goniometrische functies - met afgeleide"
   ]
  },
  {
   "cell_type": "markdown",
   "metadata": {},
   "source": [
    "|$$f(x)$$| $$f'(x)$$ |\n",
    "|---|---|\n",
    "|$$f(x) = sin(x)$$|$$f'(x) = cos(x)$$|\n",
    "|$$f(x) = cos(x)$$|$$f'(x) = -sin(x)$$|\n",
    "|$$f(x) = tan(x)$$|$$f'(x)=\\dfrac{1}{cos^2(x)}$$|\n",
    "|$$f(x) = sin^{-1}(x)$$|$$f'(x) = \\dfrac{1}{\\sqrt{1-x^2}}$$|\n",
    "|$$f(x) = cos^{-1}(x)$$|$$f'(x) = \\dfrac{-1}{\\sqrt{1-x^2}}$$|\n",
    "|$$f(x) = tan^{-1}(x)$$|$$f'(x) = \\dfrac{1}{1+x^2}$$|"
   ]
  },
  {
   "cell_type": "markdown",
   "metadata": {},
   "source": [
    "### Exponentiële en logaritmische functies – met afgeleide"
   ]
  },
  {
   "cell_type": "markdown",
   "metadata": {},
   "source": [
    "$$\\newcommand{\\euler}{e}$$"
   ]
  },
  {
   "cell_type": "markdown",
   "metadata": {},
   "source": [
    "|$$f(x)$$|$$f'(x)$$|\n",
    "|---|---|\n",
    "|$$f(x)= \\euler^x $$|$$f'(x)= \\euler^x$$|\n",
    "|$$f(x)= a^x$$|$$f'(x)= a^x\\ln(a)$$|\n",
    "|$$f(x)= \\ln(x)$$|$$f'(x)= \\dfrac{1}{x}$$|\n",
    "|$$f(x)= \\log_{a}x$$|$$f'(x)= \\dfrac{1}{x\\ln(a)}$$|\n"
   ]
  },
  {
   "cell_type": "markdown",
   "metadata": {},
   "source": [
    "### Opgaven Differentiëren"
   ]
  },
  {
   "cell_type": "markdown",
   "metadata": {},
   "source": [
    "1. Wat is de afgeleide\n",
    "$$\n",
    "f(x) = 4x^3\n",
    "$$\n",
    "$$\n",
    "f'(x) = 3\\cdot4x^{3-1}\n",
    "=12x^2\n",
    "$$"
   ]
  },
  {
   "cell_type": "markdown",
   "metadata": {},
   "source": [
    "2. Wat is de afgeleide\n",
    "$$\n",
    "f(x) = cos(x)\n",
    "$$\n",
    "$$\n",
    "f'(x) = -sin(x)\n",
    "$$"
   ]
  },
  {
   "cell_type": "markdown",
   "metadata": {},
   "source": [
    "3. Wat is de afgeleide\n",
    "$$\n",
    "f(x) = \\euler^x\n",
    "$$\n",
    "$$\n",
    "f'(x) = \\euler^x\n",
    "$$"
   ]
  },
  {
   "cell_type": "markdown",
   "metadata": {},
   "source": [
    "4. Wat is de afgeleide\n",
    "$$\n",
    "f(x) = \\dfrac{1}{x^2} = x^{-2} \n",
    "$$\n",
    "$$\n",
    "f'(x) = -2\\cdot1x^{-2-1} = -2x^{-3} = \\dfrac{-2}{x^3}\n",
    "$$"
   ]
  },
  {
   "cell_type": "markdown",
   "metadata": {},
   "source": [
    "## Regels"
   ]
  },
  {
   "cell_type": "markdown",
   "metadata": {},
   "source": [
    "### Somregel\n",
    "De definitie van de somregel is: De afgeleide van een som/verschil is gelijk aan de som/het verschilvan de afgeleiden.\n",
    "\n",
    "#### Deze regel wordt gescheven zoals hieronder:\n",
    "\n",
    "$$ y= f(x) + g(x) \\rightarrow y' = f'(x) + g'(x) $$\n",
    "#### Voorbeelden: \n",
    "$$ y = 5x^2 +2 \\rightarrow y'= 10x $$ \n",
    "$$ y = 2x^3 - 5^4 + 2x^{\\dfrac{1}{2}} + 3x + 15 \\rightarrow y' = 6x^2 =20x^3+x^{-\\dfrac{1}{2}}+3$$"
   ]
  },
  {
   "cell_type": "markdown",
   "metadata": {},
   "source": [
    "### Productregel\n",
    "De definietie van de productregel is: De afgeleide van de één keer de ander + de afgeleide van de ander keer de één.\n",
    "#### Deze regel wordt gescheven zoals hieronder:\n",
    "$$ y = f(x) \\cdot g(x) \\rightarrow y'= f'(x) \\cdot g(x) + f(x) * g'(x) $$\n",
    "#### Stappenplan\n",
    "Stap 1) Bepaal eerst de afzonderlijke afgeleiden van f(x) en g(x).\n",
    "\n",
    "Stap 2) Doe de afgeleide van de één keer de ander + de afgeleide van de ander keer de één.\n",
    "\n",
    "Stap 3) Vereenvoudig.\n",
    "#### Voorbeeld\n",
    "$$ y = f(x) \\cdot g(x) \\text{, waarbij } f(x) = (-2x+x^2) \\text{ en } g(x)=(2-x)$$\n",
    "Stap 1)\n",
    "$$ f'(x) = -2 + 2x \\text{ en } g'(x) = -1 $$\n",
    "Stap 2)\n",
    "$$ y'(x) = (-2 + 2x)(2-x)+(-2x+x^2)(-1) $$\n",
    "Stap 3)\n",
    "$$ y'(x) = (-4 + 2x + 4x – 2x^2) + (2x -x^2) = -4 + 8x – 3x² \\rightarrow -3x² + 8x -4 $$"
   ]
  },
  {
   "cell_type": "markdown",
   "metadata": {},
   "source": [
    "### Quotiëntregel\n",
    "De afgeleide van de één keer de ander - de afgeleide van de ander keer de één, gedeeld door de noemer in het kwadraat.\n",
    "#### Deze regel wordt gescheven zoals hieronder:\n",
    "$$ y = \\dfrac{f(x)}{g(x)} \\rightarrow y' = \\dfrac{f'(x)\\cdot g(x)-f(x)\\cdot g'(x)}{g(x)^2}$$\n",
    "#### Stappenplan\n",
    "Stap1) Bepaaleerstde afzonderlijkeafgeleidenvan f(x) en g(x).\n",
    "\n",
    "Stap2) Doe datgenewat onder“definitie” staat.\n",
    "\n",
    "Stap3) Vereenvoudig.\n",
    "#### Voorbeeld\n",
    "$$y = \\dfrac{f(x)}{g(x)} \\text{ waarbij } f(x) = (2x+x) \\text{ en } g(x) = (2+x)$$\n",
    "Stap 1)\n",
    "$$ f'(x) = 2 \\text( en ) g'(x) = 1 $$\n",
    "Stap 2)\n",
    "$$ \\dfrac{2\\cdot (2+x)-(2x+3)\\cdot1}{(2+x)^2}$$\n",
    "Stap 3)\n",
    "$$ \\dfrac{4 + 2x+2x-3}{(2+x)^2} \\rightarrow \\dfrac{1}{(2+x)^2}$$"
   ]
  },
  {
   "cell_type": "markdown",
   "metadata": {},
   "source": [
    "### Kettingregel\n",
    "Als je een functie van een functie differentieert, vergeet dan niet met de afgeleide van die tweede functie te vermenigvuldigen\n",
    "#### Deze regel wordt gescheven zoals hieronder:\n",
    "$$ y = f(g(x)) \\rightarrow y'= f'(g(x))\\cdot g'(x)$$\n",
    "#### Stappenplan\n",
    "Stap 1) Schrijf y als een ketting van twee functies.\n",
    "\n",
    "Stap 2) Bepaalde afzonderlijke afgeleiden van de twee functies.\n",
    "\n",
    "Stap 3) Druk het product van de afgeleide functies uit in x.\n",
    "\n",
    "Stap 4) Vereenvoudig.\n",
    "\n",
    "#### Voorbeeld\n",
    "$$ y = (x^2 +5)^4$$\n",
    "\n",
    "Stap 1)\n",
    "$$g(x) = x^2 + 5$$\n",
    "$$f(u) = u^4 \\text{, met }u = g(x)$$\n",
    "Stap 2)\n",
    "$$g'(x) = 2x \\text{ en } f'(u) = 4u^3$$\n",
    "Stap 3)\n",
    "$$f'(x) = 4u^3 \\cdot 2x \\rightarrow 4(x^2+5)^3 \\cdot 2x \\rightarrow 8x(x^2 + 5)^3$$"
   ]
  },
  {
   "cell_type": "markdown",
   "metadata": {},
   "source": [
    "### Opgaven Differentiëren"
   ]
  },
  {
   "cell_type": "markdown",
   "metadata": {},
   "source": [
    "1.\n",
    "$$\n",
    "y = f(x) = 2x^3-5x^4+ 2x^\\dfrac{1}{2}+ 3x + 1\n",
    "$$\n",
    "Gebruik Somregel \n",
    "$$\n",
    "y' = 3\\cdot2x^{3-1} - 4\\cdot5x^{4-1} + 1\\cdot3x^{1-1} \\rightarrow 6x^2 - 20x^3 + 3\n",
    "$$"
   ]
  },
  {
   "cell_type": "markdown",
   "metadata": {},
   "source": [
    "2.\n",
    "$$\n",
    "f(x) = (−4x + x^3)(6 – x)\n",
    "$$\n",
    "Gebruik Productregel\n",
    "$$\n",
    "y = g(x) \\cdot h(x) \\text{, waarbij } g(x) = (-4x + x^3) en h(x) = (6-x)\n",
    "$$\n",
    "Stap 1)\n",
    "$$\n",
    " y'(x) = -4+3x^2 \\text{ en } g'(x) = -1  \n",
    "$$\n",
    "Stap 2)\n",
    "$$ \n",
    "y'(x) = (-4+3x^2)(6-x) + (-4x + x^3)(-1)\n",
    "$$ \n",
    "Stap 3)\n",
    "$$\n",
    " y'(x) = (-24+18x^2+4x-3x^3)+(4x-x^3) = -24+18x^2+8x-4x^3 \\rightarrow -4x^3+18x^2 +8x -24 \n",
    "$$\n",
    "dus \n",
    "$$ f'(x) = -4x^3+18x^2 +8x -24 $$\n"
   ]
  },
  {
   "cell_type": "markdown",
   "metadata": {},
   "source": [
    "3.\n",
    "$$\n",
    "f(x) = \\dfrac{5x+1}{6+x}\n",
    "$$\n",
    "Gebruik Quotiëntregel\n",
    "$$\n",
    "y = \\dfrac{g(x)}{h(x)} \\text{, waarbij } g(x) = (5x+1) \\text{ en } h(x) = (6+x)  \n",
    "$$\n",
    "Stap 1)\n",
    "$$\n",
    "g'(x) = 5 \\text{ en } h'(x) = 1\n",
    "$$\n",
    "Stap 2)\n",
    "$$\n",
    "y'= \\dfrac{5 \\cdot (6+x) - (5x+1)\\cdot 1}{(6+x)^2}\n",
    "$$\n",
    "Stap 3) \n",
    "$$\n",
    "y' = \\dfrac{30+5x-5x-1}{(6+x)^2} \\rightarrow \\dfrac{29}{(6+x)^2}\n",
    "$$"
   ]
  },
  {
   "cell_type": "markdown",
   "metadata": {},
   "source": [
    "4.\n",
    "$$f(x) = (x^2+3)^3$$\n",
    "Gebruik kettingregel\n",
    "$$\n",
    "y = (x^2+3)^3\n",
    "$$\n",
    "Stap 1)\n",
    "$$\n",
    "g(x) = x^2 + 3 \\text{wordt u} \\rightarrow y = u^3\n",
    "$$\n",
    "$$\n",
    "f(u) = u^3\n",
    "$$\n",
    "Stap 2)\n",
    "$$\n",
    "g'(x) = 2x \\text{ en } f'(u) = 3u^2\n",
    "$$\n",
    "Stap 3)\n",
    "$$\n",
    "f'(x) = 3u^2 \\cdot 2x \\rightarrow 3(x^2+3)^3 \\cdot 2x \\rightarrow 6x(x^2+3)^3\n",
    "$$"
   ]
  },
  {
   "cell_type": "markdown",
   "metadata": {},
   "source": [
    "5.\n",
    "$$\n",
    " f(x) = 2\\euler^{-x}\n",
    "$$\n",
    "$$\n",
    "f'(x)=-2e^{-x}\n",
    "$$"
   ]
  },
  {
   "cell_type": "markdown",
   "metadata": {},
   "source": [
    "## Bewijzen dat je diverse activatiefuncties kan differentiëren. "
   ]
  },
  {
   "cell_type": "markdown",
   "metadata": {},
   "source": [
    "## Huiswerkopgaven voor volgende les"
   ]
  },
  {
   "cell_type": "markdown",
   "metadata": {},
   "source": [
    "#### Stap 1)"
   ]
  },
  {
   "cell_type": "markdown",
   "metadata": {},
   "source": [
    "1.\n",
    "$$\n",
    "f(x) = 3x^3 + 2x^4 + 3x^\\dfrac{1}{2} + 3x^4 +2\n",
    "$$"
   ]
  },
  {
   "cell_type": "markdown",
   "metadata": {},
   "source": [
    "$$\n",
    "f'(x) = 3\\cdot3x^{3-1} + 4\\cdot2x^{4-1} + \\dfrac{1}{2}\\cdot3x^{\\dfrac{1}{2}-1} + 4\\cdot3x^{4-1} = \n",
    "\\newline\n",
    "9x^2+8x^3+1\\dfrac{1}{2}x^{-\\dfrac{1}{2}}+12x^3 \\rightarrow\n",
    "\\newline\n",
    "20x^3 + 9x^2 + \\dfrac{1}{2\\sqrt{x}}\n",
    "$$"
   ]
  },
  {
   "cell_type": "markdown",
   "metadata": {},
   "source": [
    "2.\n",
    "$$\n",
    "f(x) = (-5x+3x^2)(5-2x)\n",
    "$$"
   ]
  },
  {
   "cell_type": "markdown",
   "metadata": {},
   "source": [
    "$$\n",
    "g(x) = (-5x + 3x^2) \\text{  } h(x) = (5-2x)\n",
    "\\newline\n",
    "g'(x) = -5 + 6x \\text{ } h'(x)=2\n",
    "\\newline\n",
    "f'(x) = (-5+6x)(5-2x) + (-5x+3x^2)(2) =\n",
    "\\newline\n",
    "(-25+30x-10x-12x^2)+(-10x+6x^2) =\n",
    "\\newline\n",
    "-25+10x-6x^2 \\rightarrow -6x^2+10x-25\n",
    "$$"
   ]
  },
  {
   "cell_type": "markdown",
   "metadata": {},
   "source": [
    "3.\n",
    "$$\n",
    "f(x) = \\dfrac{5x+3}{3+2x}\n",
    "$$"
   ]
  },
  {
   "cell_type": "markdown",
   "metadata": {},
   "source": [
    "$$\n",
    "g(x) = 5x+3 \\text{ }\n",
    "h(x) = 3+2x\n",
    "\\newline\n",
    "g'(x) = 5 \\text{ }\n",
    "h'(x) = 2\n",
    "\\newline\n",
    "\\dfrac{5\\cdot(3+2x)-(5x+3)\\cdot2}{(3+2)^2} =\n",
    "\\newline\n",
    "\\dfrac{15+10x-10x-6}{(3+2x)^2} \\rightarrow \n",
    "\\dfrac{9}{(3+2x)^2}\n",
    "$$"
   ]
  },
  {
   "cell_type": "markdown",
   "metadata": {},
   "source": [
    "4.\n",
    "$$\n",
    "f(x) = (x^2+2)^4\n",
    "$$"
   ]
  },
  {
   "cell_type": "markdown",
   "metadata": {},
   "source": [
    "$$\n",
    "g(x) = x^2 + 2 \\text{ }\n",
    "f(u) = u^4\n",
    "\\newline\n",
    "g'(x) = 2x\n",
    "f'(u) = 4u^3\n",
    "\\newline\n",
    "f'(x) = 4u^3\\cdot2x \\rightarrow 4(x^2+2)^3\\cdot2x \\rightarrow 8x(x^2+2)^3\n",
    "$$"
   ]
  },
  {
   "cell_type": "markdown",
   "metadata": {},
   "source": [
    "5.\n",
    "$$\n",
    "f(x)=3\\euler^{-x}\n",
    "$$"
   ]
  },
  {
   "cell_type": "markdown",
   "metadata": {},
   "source": [
    "$$\n",
    "f'(x) = -3\\euler^{-x}\n",
    "$$"
   ]
  },
  {
   "cell_type": "markdown",
   "metadata": {},
   "source": [
    "#### Stap 2)\n",
    "Differentieer de volgende functie\n",
    "$$\\phi(Z) = \\dfrac{1}{1+\\euler^{-z}}$$\n",
    "\n"
   ]
  },
  {
   "cell_type": "markdown",
   "metadata": {},
   "source": [
    "$$\n",
    "y = \\dfrac{1}{1+\\euler^{-x}}=(1+\\euler^{-x})^{-1}\n",
    "\\newline\n",
    "g(x) = 1+e^{-x} = u\n",
    "\\newline\n",
    "f(u) = u^{-1}\n",
    "\\newline\n",
    "g'(x) = -e^{-x} \\text{ en } f'(u) = -u^{-2}\n",
    "\\newline\n",
    "y'= -u^{-2}\\cdot -e^{-x} \\rightarrow -(e^{-x}+1)^{-2} \\cdot -e^{-x} \\rightarrow \\dfrac{e^{-x}}{(𝑒^{−x}+1)^2}\n",
    "$$\n",
    "dus \n",
    "$$\n",
    "\\phi'(Z)= \\dfrac{e^{-x}}{(𝑒^{−x}+1)^2}\n",
    "$$"
   ]
  },
  {
   "cell_type": "markdown",
   "metadata": {},
   "source": [
    "#### Grafiek"
   ]
  },
  {
   "cell_type": "code",
   "execution_count": 1,
   "metadata": {},
   "outputs": [
    {
     "data": {
      "image/png": "[encoded data removed]",
      "text/plain": [
       "<Figure size 432x288 with 1 Axes>"
      ]
     },
     "metadata": {
      "needs_background": "light"
     },
     "output_type": "display_data"
    }
   ],
   "source": [
    "import numpy as np\n",
    "import matplotlib.pyplot as plt\n",
    "import math\n",
    "x = np.linspace(-5,5,1000)\n",
    "y = np.exp(-x)/np.power((np.exp(-x)+1),2)\n",
    "z = 1/(1+np.exp(-x))\n",
    "fig = plt.figure()\n",
    "ax = fig.add_subplot(2, 1, 1)\n",
    "ax.spines['left'].set_position('center')\n",
    "ax.spines['right'].set_color('none')\n",
    "ax.spines['top'].set_color('none')\n",
    "ax.xaxis.set_ticks_position('bottom')\n",
    "ax.yaxis.set_ticks_position('left')\n",
    "plt.plot(x,y,\"r\",label=\"ϕ'(z)\")\n",
    "plt.plot(x,z,\"b\",label=\"ϕ(z)\")\n",
    "plt.legend()\n",
    "plt.show()"
   ]
  },
  {
   "cell_type": "markdown",
   "metadata": {},
   "source": [
    "## Verschillende activatiefuncties\n",
    "Er zijn verschillende activatiefuncties voor verschillende doeleinden en typen data. "
   ]
  },
  {
   "cell_type": "markdown",
   "metadata": {},
   "source": []
  },
  {
   "cell_type": "markdown",
   "metadata": {},
   "source": []
  },
  {
   "cell_type": "markdown",
   "metadata": {},
   "source": []
  },
  {
   "cell_type": "markdown",
   "metadata": {},
   "source": [
    "## Vertellen wat activatiefuncties zijn."
   ]
  },
  {
   "cell_type": "markdown",
   "metadata": {},
   "source": [
    "## Activiatie functies in de AI"
   ]
  },
  {
   "cell_type": "markdown",
   "metadata": {},
   "source": [
    "Vertellen waartoe afgeleide van functies dienen mbt AI"
   ]
  },
  {
   "cell_type": "markdown",
   "metadata": {},
   "source": [
    "# Bronnen\n",
    "Fotos differentiatie functies in tabel vorm: Slides Marloes Zutt"
   ]
  }
 ],
 "metadata": {
  "kernelspec": {
   "display_name": "Python 3",
   "language": "python",
   "name": "python3"
  },
  "language_info": {
   "codemirror_mode": {
    "name": "ipython",
    "version": 3
   },
   "file_extension": ".py",
   "mimetype": "text/x-python",
   "name": "python",
   "nbconvert_exporter": "python",
   "pygments_lexer": "ipython3",
   "version": "3.8.5"
  },
  "toc": {
   "base_numbering": "1",
   "nav_menu": {},
   "number_sections": false,
   "sideBar": true,
   "skip_h1_title": false,
   "title_cell": "Table of Contents",
   "title_sidebar": "Contents",
   "toc_cell": true,
   "toc_position": {},
   "toc_section_display": true,
   "toc_window_display": true
  },
  "varInspector": {
   "cols": {
    "lenName": 16,
    "lenType": 16,
    "lenVar": 40
   },
   "kernels_config": {
    "python": {
     "delete_cmd_postfix": "",
     "delete_cmd_prefix": "del ",
     "library": "var_list.py",
     "varRefreshCmd": "print(var_dic_list())"
    },
    "r": {
     "delete_cmd_postfix": ") ",
     "delete_cmd_prefix": "rm(",
     "library": "var_list.r",
     "varRefreshCmd": "cat(var_dic_list()) "
    }
   },
   "types_to_exclude": [
    "module",
    "function",
    "builtin_function_or_method",
    "instance",
    "_Feature"
   ],
   "window_display": false
  }
 },
 "nbformat": 4,
 "nbformat_minor": 2
}