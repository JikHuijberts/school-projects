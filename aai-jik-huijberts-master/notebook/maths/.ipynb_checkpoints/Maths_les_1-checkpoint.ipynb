{
 "cells": [
  {
   "cell_type": "markdown",
   "metadata": {},
   "source": [
    "## Rekenen met vectoren"
   ]
  },
  {
   "cell_type": "markdown",
   "metadata": {},
   "source": [
    "### 1. Tel de vectoren a en b bij elkaar op:\n",
    "$$ a = \\begin{pmatrix} 8 \\\\ 2 \\end{pmatrix} b = \\begin{pmatrix} 3 \\\\ 7 \\end{pmatrix}$$"
   ]
  },
  {
   "cell_type": "markdown",
   "metadata": {},
   "source": [
    "#### Antwoord:\n",
    "$$ c = \\begin{pmatrix} 8 + 3 \\\\ 2 + 7 \\end{pmatrix} =  \\begin{pmatrix} 11 \\\\ 10 \\end{pmatrix}$$"
   ]
  },
  {
   "cell_type": "markdown",
   "metadata": {},
   "source": [
    "### 2. Tel de vectoren a en b bij elkaar op:\n",
    "$$ a = \\begin{pmatrix} 1 \\\\ 3 \\\\ 2 \\end{pmatrix} b = \\begin{pmatrix} 2 \\\\ 4 \\\\ 5 \\end{pmatrix}$$"
   ]
  },
  {
   "cell_type": "markdown",
   "metadata": {},
   "source": [
    "$$ c = \\begin{pmatrix} 1 + 2 \\\\ 3 + 4 \\\\ 2 + 5 \\end{pmatrix} = \\begin{pmatrix} 3 \\\\ 7 \\\\ 7 \\end{pmatrix}$$"
   ]
  },
  {
   "cell_type": "markdown",
   "metadata": {},
   "source": [
    "### 3. Trek de vectoren a en b van elkaar af:\n",
    "$$ a = \\begin{pmatrix} 5 \\\\ 4 \\end{pmatrix} b = \\begin{pmatrix} 2 \\\\ 3 \\end{pmatrix}$$"
   ]
  },
  {
   "cell_type": "markdown",
   "metadata": {},
   "source": [
    "#### Antwoord:\n",
    "$$ c = \\begin{pmatrix} 5 - 2 \\\\ 4 - 3 \\end{pmatrix} =  \\begin{pmatrix} 3 \\\\ 1 \\end{pmatrix}$$"
   ]
  },
  {
   "cell_type": "markdown",
   "metadata": {},
   "source": [
    "### 4. Vermenigvuldigde vectoren a en b:\n",
    "$$ a = \\begin{pmatrix} 3 \\\\ 4 \\end{pmatrix} b = \\begin{pmatrix} 3 \\\\ 2 \\end{pmatrix}$$"
   ]
  },
  {
   "cell_type": "markdown",
   "metadata": {},
   "source": [
    "#### Antwoord:"
   ]
  },
  {
   "cell_type": "markdown",
   "metadata": {},
   "source": [
    "$$ c = \\begin{pmatrix} 3 \\cdot 3 \\\\ 4 \\cdot 2 \\end{pmatrix} = \\begin{pmatrix} 9 \\\\ 8 \\end{pmatrix} $$"
   ]
  },
  {
   "cell_type": "markdown",
   "metadata": {},
   "source": [
    "### 5. Vermenigvuldiga en b:\n",
    " $$\\text{a = 2   } b = \\begin{pmatrix} 3 \\\\ 2 \\end{pmatrix}$$"
   ]
  },
  {
   "cell_type": "markdown",
   "metadata": {},
   "source": [
    "#### Antwoord:\n",
    "$$ c = \\begin{pmatrix} 3 \\cdot 2 \\\\ 2 \\cdot 2 \\end{pmatrix} = \\begin{pmatrix} 6 \\\\ 4 \\end{pmatrix} $$"
   ]
  },
  {
   "cell_type": "markdown",
   "metadata": {},
   "source": [
    "### 6. Bepaal het inproduct van de vectoren a en b\n",
    "$$ a = \\begin{pmatrix} 4 \\\\ 3 \\end{pmatrix} b = \\begin{pmatrix} 5 \\\\ 1 \\end{pmatrix}$$"
   ]
  },
  {
   "cell_type": "markdown",
   "metadata": {},
   "source": [
    "$$\n",
    "a \\cdot b\n",
    "=\n",
    "\\begin{pmatrix}\n",
    "4 \\\\\n",
    "3\n",
    "\\end{pmatrix}\n",
    "\\cdot\n",
    "\\begin{pmatrix}\n",
    "5 & 1\n",
    "\\end{pmatrix}\n",
    "=\n",
    "4 \\cdot 5 + 3 \\cdot 1\n",
    "=\n",
    "23\n",
    "$$"
   ]
  },
  {
   "cell_type": "markdown",
   "metadata": {},
   "source": [
    "## Rekenen met matricen"
   ]
  },
  {
   "cell_type": "code",
   "execution_count": null,
   "metadata": {},
   "outputs": [],
   "source": []
  },
  {
   "cell_type": "markdown",
   "metadata": {},
   "source": [
    "introductie matricen"
   ]
  },
  {
   "cell_type": "markdown",
   "metadata": {},
   "source": [
    "### 1. Tel de matricen A en B bij elkaar op:\n",
    "$$ A = \\begin{pmatrix} 3 & 1 \\\\ 3 & 2 \\\\ 2 & 1 \\end{pmatrix} B =  \\begin{pmatrix}  4 & 2 \\\\ 2 & 1 \\\\ 3 & 3\\end{pmatrix}$$"
   ]
  },
  {
   "cell_type": "markdown",
   "metadata": {},
   "source": [
    "#### Antwoord:\n",
    "$$ A + B = \\begin{pmatrix} 3 + 4 & 1+2 \\\\ 3+2 & 2+1 \\\\ 2+3 & 1+3 \\end{pmatrix} =  \\begin{pmatrix} 7 & 3 \\\\ 5 & 3 \\\\ 5 & 4 \\end{pmatrix}$$"
   ]
  },
  {
   "cell_type": "markdown",
   "metadata": {},
   "source": [
    "### 2. Trek de matricen A en B van elkaar a:\n",
    "$$ A = \\begin{pmatrix} 6 & 3 \\\\ 3 & 5 \\\\ 6 & 6 \\end{pmatrix} B =  \\begin{pmatrix}  1 & 2 \\\\ 4 & 2 \\\\ 1 & 1\\end{pmatrix}$$"
   ]
  },
  {
   "cell_type": "markdown",
   "metadata": {},
   "source": [
    "$$ A - B = \\begin{pmatrix} 6-1 & 3-2 \\\\ 3-4 & 5-2 \\\\ 6-1 & 6-1 \\end{pmatrix} =  \\begin{pmatrix} 5 & 1 \\\\ -1 & 3 \\\\ 5 & 5 \\end{pmatrix} $$"
   ]
  },
  {
   "cell_type": "markdown",
   "metadata": {},
   "source": [
    "### 3. Bepaal C = A ∘ B,(Hadamarproduct) met\n",
    "$$ A = \\begin{pmatrix} 2 & 1\\\\ 4 & 1 \\\\ 3 & 2 \\end{pmatrix} B =  \\begin{pmatrix}  3 & 1 \\\\ 4 & 2 \\\\ -1 & 4\\end{pmatrix}$$"
   ]
  },
  {
   "cell_type": "markdown",
   "metadata": {},
   "source": [
    "#### Antwoord:\n",
    "$$ C = A \\circ B =\n",
    "\\begin{pmatrix} 2*3 & 1*1\\\\ 4*4 & 1*2 \\\\ 3*-1 & 2*4 \\end{pmatrix} = \n",
    "\\begin{pmatrix} 6 & 1\\\\ 16 & 2 \\\\ -3 & 8 \\end{pmatrix}\n",
    "$$"
   ]
  },
  {
   "cell_type": "markdown",
   "metadata": {},
   "source": [
    "## Inproduct en Matricen vervolg"
   ]
  },
  {
   "cell_type": "markdown",
   "metadata": {},
   "source": [
    "### Bepaal C = A · B, (Inproduct) met\n",
    "$$ A = \\begin{pmatrix} 2 & 4\\\\ 1 & 5 \\\\ 6 & 4 \\end{pmatrix} B =  \\begin{pmatrix}   1 & 3 \\\\ 2 & 4\\end{pmatrix}$$"
   ]
  },
  {
   "cell_type": "markdown",
   "metadata": {},
   "source": [
    "#### Antwoord:\n",
    "$$ C = A \\cdot B = \n",
    "\\begin{pmatrix}\n",
    "2 \\cdot 1 + 4 \\cdot 2 & 2 \\cdot 3 + 4 \\cdot 4 \\\\\n",
    "1 \\cdot 1 + 5 \\cdot 2 & 1 \\cdot 3 + 5 \\cdot 4 \\\\\n",
    "6 \\cdot 1 + 4 \\cdot 2 & 6 \\cdot 3 + 4 \\cdot 4 \n",
    "\\end{pmatrix} \n",
    "=\n",
    "\\begin{pmatrix} \n",
    "10 & 22 \\\\ \n",
    "11 & 23 \\\\ \n",
    "14 & 34 \n",
    "\\end{pmatrix}\n",
    "$$"
   ]
  },
  {
   "cell_type": "markdown",
   "metadata": {},
   "source": [
    "### Bepaal C = A · B, (Inproduct) met:\n",
    "$$ A = \n",
    "\\begin{pmatrix} \n",
    "2 & 3 \\\\ \n",
    "3 & 5 \\\\ \n",
    "2 & 4 \n",
    "\\end{pmatrix} \n",
    "B =(3) $$"
   ]
  },
  {
   "cell_type": "markdown",
   "metadata": {},
   "source": [
    "Dit is niet mogelijk b is geen vertex of matrix. Hieruit kan je niet het inproduct bepalen.\n"
   ]
  },
  {
   "cell_type": "markdown",
   "metadata": {},
   "source": [
    "### Bepaal C = A · B, (Inproduct) met:\n",
    "$$ A = \n",
    "\\begin{pmatrix} \n",
    "2 & 3 \\\\ \n",
    "3 & 5 \\\\ \n",
    "2 & 4 \n",
    "\\end{pmatrix} \n",
    "B = \\begin{pmatrix} \n",
    "2 & 3 \\\\\n",
    "6 & 3 \n",
    "\\end{pmatrix}\n",
    "$$"
   ]
  },
  {
   "cell_type": "markdown",
   "metadata": {},
   "source": [
    "#### Antwoord:\n",
    "$$ \n",
    "C = A \\cdot B = \n",
    "\\begin{pmatrix}\n",
    "2 \\cdot 2 + 3 \\cdot 6 & 2 \\cdot 3 + 3 \\cdot 3\\\\\n",
    "3 \\cdot 2 + 5 \\cdot 6 & 3 \\cdot 3 + 5 \\cdot 3\\\\\n",
    "2 \\cdot 2 + 4 \\cdot 6 & 2 \\cdot 3 + 4 \\cdot 3\\\\\n",
    "\\end{pmatrix}\n",
    "=\n",
    "\\begin{pmatrix}\n",
    "22 & 15 \\\\\n",
    "36 & 24 \\\\\n",
    "28 & 18\n",
    "\\end{pmatrix}\n",
    "$$"
   ]
  },
  {
   "cell_type": "markdown",
   "metadata": {},
   "source": []
  },
  {
   "cell_type": "markdown",
   "metadata": {},
   "source": [
    "### Bepaal C = A · b, met:"
   ]
  },
  {
   "cell_type": "markdown",
   "metadata": {},
   "source": [
    "$$ A = \n",
    "\\begin{pmatrix} \n",
    "3 & 1 \\\\ \n",
    "5 & 2 \\\\ \n",
    "2 & 5 \n",
    "\\end{pmatrix}\n",
    "b=3\n",
    "$$"
   ]
  },
  {
   "cell_type": "markdown",
   "metadata": {},
   "source": [
    "#### Antwoord:\n",
    "$$ \n",
    "C = A · b =\n",
    "\\begin{pmatrix}\n",
    "3 \\cdot 3 & 1 \\cdot 3 \\\\\n",
    "5 \\cdot 3 & 2 \\cdot 3 \\\\\n",
    "2 \\cdot 3 & 5 \\cdot 3\n",
    "\\end{pmatrix}\n",
    "=\n",
    "\\begin{pmatrix}\n",
    "9 & 3 \\\\\n",
    "15 & 6 \\\\\n",
    "6 & 15\n",
    "\\end{pmatrix}\n",
    "$$"
   ]
  },
  {
   "cell_type": "markdown",
   "metadata": {},
   "source": [
    "### Bepaal C = A · b, met:\n",
    "$$ A = \n",
    "\\begin{pmatrix} \n",
    "3 & 4 \\\\ \n",
    "6 & 4 \\\\ \n",
    "3 & 5 \n",
    "\\end{pmatrix}\n",
    "b=4\n",
    "$$"
   ]
  },
  {
   "cell_type": "markdown",
   "metadata": {},
   "source": [
    "$$\n",
    "C = A · b =\n",
    "\\begin{pmatrix} \n",
    "3 \\cdot 4 & 4 \\cdot 4 \\\\ \n",
    "6 \\cdot 4 & 4 \\cdot 4 \\\\ \n",
    "3 \\cdot 4 & 5 \\cdot 4 \n",
    "\\end{pmatrix}\n",
    "=\n",
    "\\begin{pmatrix}\n",
    "12 & 16 \\\\ \n",
    "24 & 16 \\\\ \n",
    "12 & 20 \n",
    "\\end{pmatrix}\n",
    "$$"
   ]
  },
  {
   "cell_type": "code",
   "execution_count": null,
   "metadata": {},
   "outputs": [],
   "source": []
  }
 ],
 "metadata": {
  "kernelspec": {
   "display_name": "Python 3",
   "language": "python",
   "name": "python3"
  },
  "language_info": {
   "codemirror_mode": {
    "name": "ipython",
    "version": 3
   },
   "file_extension": ".py",
   "mimetype": "text/x-python",
   "name": "python",
   "nbconvert_exporter": "python",
   "pygments_lexer": "ipython3",
   "version": "3.8.5"
  }
 },
 "nbformat": 4,
 "nbformat_minor": 4
}
