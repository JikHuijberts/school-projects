{
 "cells": [
  {
   "cell_type": "markdown",
   "metadata": {},
   "source": [
    "# Wiskunde les 1"
   ]
  },
  {
   "cell_type": "markdown",
   "metadata": {
    "toc": true
   },
   "source": [
    "<h1>Table of Contents<span class=\"tocSkip\"></span></h1>\n",
    "<div class=\"toc\"><ul class=\"toc-item\"><li><span><a href=\"#Wiskunde-les-1\" data-toc-modified-id=\"Wiskunde-les-1-1\">Wiskunde les 1</a></span></li><li><span><a href=\"#Wiskunde-in-AI\" data-toc-modified-id=\"Wiskunde-in-AI-2\">Wiskunde in AI</a></span></li><li><span><a href=\"#Manhattan-/-Euclidian\" data-toc-modified-id=\"Manhattan-/-Euclidian-3\">Manhattan / Euclidian</a></span><ul class=\"toc-item\"><li><span><a href=\"#Therorie-afstanden\" data-toc-modified-id=\"Therorie-afstanden-3.1\">Therorie afstanden</a></span><ul class=\"toc-item\"><li><span><a href=\"#Manhattan\" data-toc-modified-id=\"Manhattan-3.1.1\">Manhattan</a></span></li><li><span><a href=\"#Euclidian\" data-toc-modified-id=\"Euclidian-3.1.2\">Euclidian</a></span></li><li><span><a href=\"#Gegeven-zijn-de-punten-a(-5,-4)-en-b(-1-,--7)\" data-toc-modified-id=\"Gegeven-zijn-de-punten-a(-5,-4)-en-b(-1-,--7)-3.1.3\">Gegeven zijn de punten a(-5, 4) en b(-1 , -7)</a></span></li><li><span><a href=\"#1.-Bereken-de-Manhattan-afstand-tussen-deze-2-punten\" data-toc-modified-id=\"1.-Bereken-de-Manhattan-afstand-tussen-deze-2-punten-3.1.4\">1. Bereken de Manhattan afstand tussen deze 2 punten</a></span></li><li><span><a href=\"#2.-Bereken-de-Euclidian-afstand-tussen-deze-2-punten:\" data-toc-modified-id=\"2.-Bereken-de-Euclidian-afstand-tussen-deze-2-punten:-3.1.5\">2. Bereken de Euclidian afstand tussen deze 2 punten:</a></span></li></ul></li></ul></li><li><span><a href=\"#Rekenen-met-vectoren\" data-toc-modified-id=\"Rekenen-met-vectoren-4\">Rekenen met vectoren</a></span><ul class=\"toc-item\"><li><span><a href=\"#Theorie-vectoren-algemeen\" data-toc-modified-id=\"Theorie-vectoren-algemeen-4.1\">Theorie vectoren algemeen</a></span></li><li><span><a href=\"#Therorie-optellen-van-vectoren\" data-toc-modified-id=\"Therorie-optellen-van-vectoren-4.2\">Therorie optellen van vectoren</a></span></li><li><span><a href=\"#Opdrachten-optellen-van-vectoren\" data-toc-modified-id=\"Opdrachten-optellen-van-vectoren-4.3\">Opdrachten optellen van vectoren</a></span><ul class=\"toc-item\"><li><span><a href=\"#1.-Tel-de-vectoren-a-en-b-bij-elkaar-op:\" data-toc-modified-id=\"1.-Tel-de-vectoren-a-en-b-bij-elkaar-op:-4.3.1\">1. Tel de vectoren a en b bij elkaar op:</a></span></li><li><span><a href=\"#2.-Tel-de-vectoren-a-en-b-bij-elkaar-op:\" data-toc-modified-id=\"2.-Tel-de-vectoren-a-en-b-bij-elkaar-op:-4.3.2\">2. Tel de vectoren a en b bij elkaar op:</a></span></li></ul></li><li><span><a href=\"#Therorie-aftrekken-van-vectoren\" data-toc-modified-id=\"Therorie-aftrekken-van-vectoren-4.4\">Therorie aftrekken van vectoren</a></span></li><li><span><a href=\"#Opdracht-aftrekken-van-vectoren\" data-toc-modified-id=\"Opdracht-aftrekken-van-vectoren-4.5\">Opdracht aftrekken van vectoren</a></span><ul class=\"toc-item\"><li><span><a href=\"#3.-Trek-de-vectoren-a-en-b-van-elkaar-af:\" data-toc-modified-id=\"3.-Trek-de-vectoren-a-en-b-van-elkaar-af:-4.5.1\">3. Trek de vectoren a en b van elkaar af:</a></span></li></ul></li><li><span><a href=\"#Theorie-vermenigvuldigen-van-vectoren\" data-toc-modified-id=\"Theorie-vermenigvuldigen-van-vectoren-4.6\">Theorie vermenigvuldigen van vectoren</a></span></li><li><span><a href=\"#Opdrachten-vermenigvuldigen-vectoren\" data-toc-modified-id=\"Opdrachten-vermenigvuldigen-vectoren-4.7\">Opdrachten vermenigvuldigen vectoren</a></span><ul class=\"toc-item\"><li><span><a href=\"#4.-Vermenigvuldig-de-vectoren-a-en-b:\" data-toc-modified-id=\"4.-Vermenigvuldig-de-vectoren-a-en-b:-4.7.1\">4. Vermenigvuldig de vectoren a en b:</a></span></li><li><span><a href=\"#5.-Vermenigvuldig-a-(scalar)-en-b:\" data-toc-modified-id=\"5.-Vermenigvuldig-a-(scalar)-en-b:-4.7.2\">5. Vermenigvuldig a (scalar) en b:</a></span></li></ul></li><li><span><a href=\"#Theorie-inproduct\" data-toc-modified-id=\"Theorie-inproduct-4.8\">Theorie inproduct</a></span></li><li><span><a href=\"#Opdracht-inproduct\" data-toc-modified-id=\"Opdracht-inproduct-4.9\">Opdracht inproduct</a></span><ul class=\"toc-item\"><li><span><a href=\"#6.-Bepaal-het-inproduct-van-de-vectoren-a-en-b\" data-toc-modified-id=\"6.-Bepaal-het-inproduct-van-de-vectoren-a-en-b-4.9.1\">6. Bepaal het inproduct van de vectoren a en b</a></span></li></ul></li></ul></li><li><span><a href=\"#Rekenen-met-matricen\" data-toc-modified-id=\"Rekenen-met-matricen-5\">Rekenen met matricen</a></span><ul class=\"toc-item\"><li><span><a href=\"#Theorie-matricen\" data-toc-modified-id=\"Theorie-matricen-5.1\">Theorie matricen</a></span><ul class=\"toc-item\"><li><span><a href=\"#1.-Tel-de-matricen-A-en-B-bij-elkaar-op:\" data-toc-modified-id=\"1.-Tel-de-matricen-A-en-B-bij-elkaar-op:-5.1.1\">1. Tel de matricen A en B bij elkaar op:</a></span></li><li><span><a href=\"#2.-Trek-de-matricen-A-en-B-van-elkaar-a:\" data-toc-modified-id=\"2.-Trek-de-matricen-A-en-B-van-elkaar-a:-5.1.2\">2. Trek de matricen A en B van elkaar a:</a></span></li><li><span><a href=\"#3.-Bepaal-C-=-A-∘-B,(Hadamarproduct)-met\" data-toc-modified-id=\"3.-Bepaal-C-=-A-∘-B,(Hadamarproduct)-met-5.1.3\">3. Bepaal C = A ∘ B,(Hadamarproduct) met</a></span></li></ul></li><li><span><a href=\"#Inproduct-en-Matricen-vervolg\" data-toc-modified-id=\"Inproduct-en-Matricen-vervolg-5.2\">Inproduct en Matricen vervolg</a></span><ul class=\"toc-item\"><li><span><a href=\"#Bepaal-C-=-A-·-B,-(Inproduct)-met\" data-toc-modified-id=\"Bepaal-C-=-A-·-B,-(Inproduct)-met-5.2.1\">Bepaal C = A · B, (Inproduct) met</a></span></li><li><span><a href=\"#Bepaal-C-=-A-·-B,-(Inproduct)-met:\" data-toc-modified-id=\"Bepaal-C-=-A-·-B,-(Inproduct)-met:-5.2.2\">Bepaal C = A · B, (Inproduct) met:</a></span></li><li><span><a href=\"#Bepaal-C-=-A-·-B,-(Inproduct)-met:\" data-toc-modified-id=\"Bepaal-C-=-A-·-B,-(Inproduct)-met:-5.2.3\">Bepaal C = A · B, (Inproduct) met:</a></span></li><li><span><a href=\"#Bepaal-C-=-A-·-b,-met:\" data-toc-modified-id=\"Bepaal-C-=-A-·-b,-met:-5.2.4\">Bepaal C = A · b, met:</a></span></li><li><span><a href=\"#Bepaal-C-=-A-·-b,-met:\" data-toc-modified-id=\"Bepaal-C-=-A-·-b,-met:-5.2.5\">Bepaal C = A · b, met:</a></span></li></ul></li><li><span><a href=\"#Determinant\" data-toc-modified-id=\"Determinant-5.3\">Determinant</a></span><ul class=\"toc-item\"><li><span><a href=\"#Theorie-2-X-2-matrix-determinant\" data-toc-modified-id=\"Theorie-2-X-2-matrix-determinant-5.3.1\">Theorie 2 X 2 matrix determinant</a></span></li><li><span><a href=\"#Opdrachten-2-X-2-matrix\" data-toc-modified-id=\"Opdrachten-2-X-2-matrix-5.3.2\">Opdrachten 2 X 2 matrix</a></span></li><li><span><a href=\"#Theorie\" data-toc-modified-id=\"Theorie-5.3.3\">Theorie</a></span></li><li><span><a href=\"#Theorie-n-X-n-determinant\" data-toc-modified-id=\"Theorie-n-X-n-determinant-5.3.4\">Theorie n X n determinant</a></span></li></ul></li><li><span><a href=\"#Inverse-bepalen\" data-toc-modified-id=\"Inverse-bepalen-5.4\">Inverse bepalen</a></span></li><li><span><a href=\"#Transpose-Matrix\" data-toc-modified-id=\"Transpose-Matrix-5.5\">Transpose Matrix</a></span><ul class=\"toc-item\"><li><span><a href=\"#1X3-Matrix\" data-toc-modified-id=\"1X3-Matrix-5.5.1\">1X3 Matrix</a></span></li><li><span><a href=\"#2x3-matrix\" data-toc-modified-id=\"2x3-matrix-5.5.2\">2x3 matrix</a></span></li></ul></li><li><span><a href=\"#Bronnen\" data-toc-modified-id=\"Bronnen-5.6\">Bronnen</a></span></li></ul></li></ul></div>"
   ]
  },
  {
   "cell_type": "markdown",
   "metadata": {},
   "source": [
    "# Wiskunde in AI"
   ]
  },
  {
   "cell_type": "markdown",
   "metadata": {},
   "source": [
    "# Manhattan / Euclidian"
   ]
  },
  {
   "cell_type": "markdown",
   "metadata": {},
   "source": [
    "## Therorie afstanden\n",
    "\n",
    "### Manhattan\n",
    "De manhattan afstand is de afstand van een punt naar een andere punt in een assenstelsel. Deze afstand wordt bepaald door het schil in x en y opgesomt (Afbeelding onder). Dus als je de afstand vanaf het nulpunt naar bijvoorbeeld (1,1) wilt berkenen krijg je: verschil in x = 1, verschil in y = 1, 1+1=2. Dus de afstand hier is 2.\n",
    "\n",
    "![manhattan image](./ex_manhattan.jpg)\n",
    "\n",
    "\n",
    "De functie die gebruikt wordt voor het berekenen van de Manhattan afstand is:\n",
    "$$ d_M(a,b) = |a_x - b_x| + |a_y - b_y| $$\n",
    "\n",
    "Hier wordt het verschil in x en y berekend en bij elkaar opgeteld. De resultaten van x en y wordt door de || markeringen positief gemaakt.\n",
    "\n",
    "### Euclidian\n",
    "De Euclidische afstand is de aftand direct naar een punt toe. Het is vrijwel hetzelfde als de stelling van pytagoras, alleen wordt het positieve verschil van x en y gebruikt. \n",
    "\n",
    "\n",
    "![euclidian](./ex_euclidian.svg.png)"
   ]
  },
  {
   "cell_type": "markdown",
   "metadata": {},
   "source": [
    "Net als pytagoras is de Euclidische afstand de wortel van het verschil van x en y in het quadraat opgeteld.\n",
    "$$ \n",
    "d_E\\left( a,b\\right)   = \\sqrt {|a_x - b_x|^2 + |a_y - b_y | ^2} \n",
    "$$"
   ]
  },
  {
   "cell_type": "markdown",
   "metadata": {},
   "source": [
    "### Gegeven zijn de punten a(-5, 4) en b(-1 , -7) "
   ]
  },
  {
   "cell_type": "markdown",
   "metadata": {},
   "source": [
    "### 1. Bereken de Manhattan afstand tussen deze 2 punten"
   ]
  },
  {
   "cell_type": "markdown",
   "metadata": {},
   "source": [
    "Voor de manhattan afstand gebruik je de functie: $$ d_M(a,b) = |a_x - b_x| + |a_y - b_y| $$"
   ]
  },
  {
   "cell_type": "markdown",
   "metadata": {},
   "source": [
    "Als je per stap de functie vult krijg je:\n",
    "$$\n",
    "|a_x - b_x | = | -5 -- 1 | = |-5 + 1 | = 4\n",
    "$$\n",
    "$$\n",
    "|a_y - b_y | = | 4 -- 7 | = |4 + 7 | = 11\n",
    "$$\n",
    "$$\n",
    "d_M(a,b) = 4 + 11 = \\underline{15}\n",
    "$$"
   ]
  },
  {
   "cell_type": "markdown",
   "metadata": {},
   "source": [
    "### 2. Bereken de Euclidian afstand tussen deze 2 punten:"
   ]
  },
  {
   "cell_type": "markdown",
   "metadata": {},
   "source": [
    "De functie die gebruikt wordt voor het berkenen van de Euclidian afstand is:\n",
    "$$ \n",
    "d_E\\left( a,b\\right)   = \\sqrt {|a_x - b_x|^2 + |a_y - b_y | ^2} \n",
    "$$"
   ]
  },
  {
   "cell_type": "markdown",
   "metadata": {},
   "source": [
    "Als je de functie stap voor stap doet kijrg je:"
   ]
  },
  {
   "cell_type": "markdown",
   "metadata": {},
   "source": [
    "$$\n",
    "|a_x - b_x |^2 = | -5 -- 1 |^2 = |-5 + 1 |^2 = 4^2 = 16\n",
    "$$\n",
    "$$\n",
    "|a_y - b_y |^2 = | 4 -- 7 |^2 = |4 + 7|^2 = 11^2 = 121\n",
    "$$\n",
    "$$\n",
    "    d_E(a,b) = \\sqrt{16 + 121} = \\sqrt{137} = \\underline{11.70}\n",
    "$$"
   ]
  },
  {
   "cell_type": "markdown",
   "metadata": {},
   "source": [
    "# Rekenen met vectoren"
   ]
  },
  {
   "cell_type": "markdown",
   "metadata": {},
   "source": [
    "## Theorie vectoren algemeen\n",
    "Een vector kan je zien als een pijl naar een punt in een assenstelsel. Een vector kan je op twee verschillende manieren noteren:\n",
    "$$ (3,1) \\text{ of } \\begin{pmatrix} 3 \\\\ 1 \\end{pmatrix} $$\n",
    "\n",
    "De eerste/bovenste waarde van een vector is de aantal stappen die hij zet op de x-as. De tweede/onderste waarde van een vector is de hoeveelheid stappen dat hij verplaatst op de y as. Dus als de vector hierboven gebruikt zou worden zou het een pijl zijn van de nulpunt naar de (3,1) punt in het assenstelsel."
   ]
  },
  {
   "cell_type": "markdown",
   "metadata": {},
   "source": [
    "## Therorie optellen van vectoren\n",
    "De functie voor het optellen van vectoren is simpel:\n",
    "$$ a = \\begin{pmatrix} a_1 \\\\ a_2\\end{pmatrix} b= \\begin{pmatrix} b_1 \\\\ b_2 \\end{pmatrix}$$\n",
    "$$\n",
    "a+b = \\begin{pmatrix} a_1 + b_1 \\\\ a_2 + b_2 \\end{pmatrix}\n",
    "$$\n",
    "Een andere vormulering:\n",
    "$$\n",
    "a+b = (a_1 + b_1, a_2 + b_2)\n",
    "$$"
   ]
  },
  {
   "cell_type": "markdown",
   "metadata": {},
   "source": [
    "## Opdrachten optellen van vectoren"
   ]
  },
  {
   "cell_type": "markdown",
   "metadata": {},
   "source": [
    "### 1. Tel de vectoren a en b bij elkaar op:\n",
    "$$ a = \\begin{pmatrix} 8 \\\\ 2 \\end{pmatrix} b = \\begin{pmatrix} 3 \\\\ 7 \\end{pmatrix}$$"
   ]
  },
  {
   "cell_type": "markdown",
   "metadata": {},
   "source": [
    "#### Antwoord:\n",
    "$$ c = \\begin{pmatrix} 8 + 3 \\\\ 2 + 7 \\end{pmatrix} =  \\begin{pmatrix} 11 \\\\ 10 \\end{pmatrix}$$"
   ]
  },
  {
   "cell_type": "markdown",
   "metadata": {},
   "source": [
    "### 2. Tel de vectoren a en b bij elkaar op:\n",
    "$$ a = \\begin{pmatrix} 1 \\\\ 3 \\\\ 2 \\end{pmatrix} b = \\begin{pmatrix} 2 \\\\ 4 \\\\ 5 \\end{pmatrix}$$"
   ]
  },
  {
   "cell_type": "markdown",
   "metadata": {},
   "source": [
    "$$ c = \\begin{pmatrix} 1 + 2 \\\\ 3 + 4 \\\\ 2 + 5 \\end{pmatrix} = \\begin{pmatrix} 3 \\\\ 7 \\\\ 7 \\end{pmatrix}$$"
   ]
  },
  {
   "cell_type": "markdown",
   "metadata": {},
   "source": [
    "## Therorie aftrekken van vectoren\n",
    "De functie voor het aftrekken van vectoren is bijna hetzelfde als optellen:\n",
    "$$ a = \\begin{pmatrix} a_1 \\\\ a_2\\end{pmatrix} b= \\begin{pmatrix} b_1 \\\\ b_2 \\end{pmatrix}$$\n",
    "$$\n",
    "a-b = \\begin{pmatrix} a_1 - b_1 \\\\ a_2 - b_2 \\end{pmatrix}\n",
    "$$\n",
    "Een andere vormulering:\n",
    "$$\n",
    "a-b = (a_1 - b_1, a_2 - b_2)\n",
    "$$"
   ]
  },
  {
   "cell_type": "markdown",
   "metadata": {},
   "source": [
    "## Opdracht aftrekken van vectoren"
   ]
  },
  {
   "cell_type": "markdown",
   "metadata": {},
   "source": [
    "### 3. Trek de vectoren a en b van elkaar af:\n",
    "$$ a = \\begin{pmatrix} 5 \\\\ 4 \\end{pmatrix} b = \\begin{pmatrix} 2 \\\\ 3 \\end{pmatrix}$$"
   ]
  },
  {
   "cell_type": "markdown",
   "metadata": {},
   "source": [
    "#### Antwoord:\n",
    "$$ c = \\begin{pmatrix} 5 - 2 \\\\ 4 - 3 \\end{pmatrix} =  \\begin{pmatrix} 3 \\\\ 1 \\end{pmatrix}$$"
   ]
  },
  {
   "cell_type": "markdown",
   "metadata": {},
   "source": [
    "## Theorie vermenigvuldigen van vectoren"
   ]
  },
  {
   "cell_type": "markdown",
   "metadata": {},
   "source": [
    "De theorie van het vermedigvuldigen van vectoren is hetzelfde als de wiskunde van het optellen en aftrekken van vectoren. De twee vectoren worden als volgt vermenigvuldigd:\n",
    "\n",
    "$$ a = \\begin{pmatrix} a_1 \\\\ a_2\\end{pmatrix} b= \\begin{pmatrix} b_1 \\\\ b_2 \\end{pmatrix}$$\n",
    "$$\n",
    "a \\cdot b = \\begin{pmatrix} a_1 \\cdot b_1 \\\\ a_2 \\cdot b_2 \\end{pmatrix}\n",
    "$$\n",
    "Een andere vormulering:\n",
    "$$\n",
    "a \\cdot b = (a_1 \\cdot b_1, a_2 \\cdot b_2)\n",
    "$$\n",
    "\n",
    "Voor het vermedigvuldigen met een scalar is het een beetje anders. Beide waarden van de vector wordt vermenigvuldigd met de scalar:\n",
    "\n",
    "\n",
    "$$\n",
    "a = S \\quad b = \\begin{pmatrix} b_1 \\\\ b_2 \\end{pmatrix}\n",
    "$$\n",
    "$$\n",
    " a \\cdot b = \\begin{pmatrix} b_1 \\cdot S \\\\ b_2 \\cdot S \\end{pmatrix}\n",
    "$$"
   ]
  },
  {
   "cell_type": "markdown",
   "metadata": {},
   "source": [
    "## Opdrachten vermenigvuldigen vectoren\n",
    "### 4. Vermenigvuldig de vectoren a en b:\n",
    "$$ a = \\begin{pmatrix} 3 \\\\ 4 \\end{pmatrix} b = \\begin{pmatrix} 3 \\\\ 2 \\end{pmatrix}$$"
   ]
  },
  {
   "cell_type": "markdown",
   "metadata": {},
   "source": [
    "#### Antwoord:"
   ]
  },
  {
   "cell_type": "markdown",
   "metadata": {},
   "source": [
    "$$ c = \\begin{pmatrix} 3 \\cdot 3 \\\\ 4 \\cdot 2 \\end{pmatrix} = \\begin{pmatrix} 9 \\\\ 8 \\end{pmatrix} $$"
   ]
  },
  {
   "cell_type": "markdown",
   "metadata": {},
   "source": [
    "### 5. Vermenigvuldig a (scalar) en b:\n",
    " $$\n",
    " a = 2 \\quad b = \\begin{pmatrix} 3 \\\\ 2 \\end{pmatrix}\n",
    " $$"
   ]
  },
  {
   "cell_type": "markdown",
   "metadata": {},
   "source": [
    "#### Antwoord:\n",
    "$$ c = \\begin{pmatrix} 3 \\cdot 2 \\\\ 2 \\cdot 2 \\end{pmatrix} = \\begin{pmatrix} 6 \\\\ 4 \\end{pmatrix} $$"
   ]
  },
  {
   "cell_type": "markdown",
   "metadata": {},
   "source": [
    "## Theorie inproduct"
   ]
  },
  {
   "cell_type": "markdown",
   "metadata": {},
   "source": [
    "## Opdracht inproduct"
   ]
  },
  {
   "cell_type": "markdown",
   "metadata": {},
   "source": [
    "### 6. Bepaal het inproduct van de vectoren a en b\n",
    "$$ a = \\begin{pmatrix} 4 \\\\ 3 \\end{pmatrix} b = \\begin{pmatrix} 5 \\\\ 1 \\end{pmatrix}$$"
   ]
  },
  {
   "cell_type": "markdown",
   "metadata": {},
   "source": [
    "$$\n",
    "a \\cdot b\n",
    "=\n",
    "\\begin{pmatrix}\n",
    "4 \\\\\n",
    "3\n",
    "\\end{pmatrix}\n",
    "\\cdot\n",
    "\\begin{pmatrix}\n",
    "5 & 1\n",
    "\\end{pmatrix}\n",
    "=\n",
    "4 \\cdot 5 + 3 \\cdot 1\n",
    "=\n",
    "23\n",
    "$$"
   ]
  },
  {
   "cell_type": "markdown",
   "metadata": {},
   "source": [
    "# Rekenen met matricen"
   ]
  },
  {
   "cell_type": "markdown",
   "metadata": {},
   "source": [
    "## Theorie matricen\n",
    "\n"
   ]
  },
  {
   "cell_type": "markdown",
   "metadata": {},
   "source": [
    "### 1. Tel de matricen A en B bij elkaar op:\n",
    "$$ A = \\begin{pmatrix} 3 & 1 \\\\ 3 & 2 \\\\ 2 & 1 \\end{pmatrix} B =  \\begin{pmatrix}  4 & 2 \\\\ 2 & 1 \\\\ 3 & 3\\end{pmatrix}$$"
   ]
  },
  {
   "cell_type": "markdown",
   "metadata": {},
   "source": [
    "#### Antwoord:\n",
    "$$ A + B = \\begin{pmatrix} 3 + 4 & 1+2 \\\\ 3+2 & 2+1 \\\\ 2+3 & 1+3 \\end{pmatrix} =  \\begin{pmatrix} 7 & 3 \\\\ 5 & 3 \\\\ 5 & 4 \\end{pmatrix}$$"
   ]
  },
  {
   "cell_type": "markdown",
   "metadata": {},
   "source": [
    "### 2. Trek de matricen A en B van elkaar a:\n",
    "$$ A = \\begin{pmatrix} 6 & 3 \\\\ 3 & 5 \\\\ 6 & 6 \\end{pmatrix} B =  \\begin{pmatrix}  1 & 2 \\\\ 4 & 2 \\\\ 1 & 1\\end{pmatrix}$$"
   ]
  },
  {
   "cell_type": "markdown",
   "metadata": {},
   "source": [
    "$$ A - B = \\begin{pmatrix} 6-1 & 3-2 \\\\ 3-4 & 5-2 \\\\ 6-1 & 6-1 \\end{pmatrix} =  \\begin{pmatrix} 5 & 1 \\\\ -1 & 3 \\\\ 5 & 5 \\end{pmatrix} $$"
   ]
  },
  {
   "cell_type": "markdown",
   "metadata": {},
   "source": [
    "### 3. Bepaal C = A ∘ B,(Hadamarproduct) met\n",
    "$$ A = \\begin{pmatrix} 2 & 1\\\\ 4 & 1 \\\\ 3 & 2 \\end{pmatrix} B =  \\begin{pmatrix}  3 & 1 \\\\ 4 & 2 \\\\ -1 & 4\\end{pmatrix}$$"
   ]
  },
  {
   "cell_type": "markdown",
   "metadata": {},
   "source": [
    "#### Antwoord:\n",
    "$$ C = A \\circ B =\n",
    "\\begin{pmatrix} 2*3 & 1*1\\\\ 4*4 & 1*2 \\\\ 3*-1 & 2*4 \\end{pmatrix} = \n",
    "\\begin{pmatrix} 6 & 1\\\\ 16 & 2 \\\\ -3 & 8 \\end{pmatrix}\n",
    "$$"
   ]
  },
  {
   "cell_type": "markdown",
   "metadata": {},
   "source": [
    "## Inproduct en Matricen vervolg"
   ]
  },
  {
   "cell_type": "markdown",
   "metadata": {},
   "source": [
    "### Bepaal C = A · B, (Inproduct) met\n",
    "$$ A = \\begin{pmatrix} 2 & 4\\\\ 1 & 5 \\\\ 6 & 4 \\end{pmatrix} B =  \\begin{pmatrix}   1 & 3 \\\\ 2 & 4\\end{pmatrix}$$"
   ]
  },
  {
   "cell_type": "markdown",
   "metadata": {},
   "source": [
    "#### Antwoord:\n",
    "$$ C = A \\cdot B = \n",
    "\\begin{pmatrix}\n",
    "2 \\cdot 1 + 4 \\cdot 2 & 2 \\cdot 3 + 4 \\cdot 4 \\\\\n",
    "1 \\cdot 1 + 5 \\cdot 2 & 1 \\cdot 3 + 5 \\cdot 4 \\\\\n",
    "6 \\cdot 1 + 4 \\cdot 2 & 6 \\cdot 3 + 4 \\cdot 4 \n",
    "\\end{pmatrix} \n",
    "=\n",
    "\\begin{pmatrix} \n",
    "10 & 22 \\\\ \n",
    "11 & 23 \\\\ \n",
    "14 & 34 \n",
    "\\end{pmatrix}\n",
    "$$"
   ]
  },
  {
   "cell_type": "markdown",
   "metadata": {},
   "source": [
    "### Bepaal C = A · B, (Inproduct) met:\n",
    "$$ \n",
    "A = \n",
    "\\begin{pmatrix} \n",
    "2 & 3 \\\\ \n",
    "3 & 5 \\\\ \n",
    "2 & 4 \n",
    "\\end{pmatrix} \n",
    "\\quad\n",
    "B =(3) \n",
    "$$"
   ]
  },
  {
   "cell_type": "markdown",
   "metadata": {},
   "source": [
    "Dit is niet mogelijk b is geen vertex of matrix. Hieruit kan je niet het inproduct bepalen.\n"
   ]
  },
  {
   "cell_type": "markdown",
   "metadata": {},
   "source": [
    "### Bepaal C = A · B, (Inproduct) met:\n",
    "$$ \n",
    "A = \n",
    "\\begin{pmatrix} \n",
    "2 & 3 \\\\ \n",
    "3 & 5 \\\\ \n",
    "2 & 4 \n",
    "\\end{pmatrix} \n",
    "B = \\begin{pmatrix} \n",
    "2 & 3 \\\\\n",
    "6 & 3 \n",
    "\\end{pmatrix}\n",
    "$$"
   ]
  },
  {
   "cell_type": "markdown",
   "metadata": {},
   "source": [
    "#### Antwoord:\n",
    "$$ \n",
    "C = A \\cdot B = \n",
    "\\begin{pmatrix}\n",
    "2 \\cdot 2 + 3 \\cdot 6 & 2 \\cdot 3 + 3 \\cdot 3\\\\\n",
    "3 \\cdot 2 + 5 \\cdot 6 & 3 \\cdot 3 + 5 \\cdot 3\\\\\n",
    "2 \\cdot 2 + 4 \\cdot 6 & 2 \\cdot 3 + 4 \\cdot 3\\\\\n",
    "\\end{pmatrix}\n",
    "=\n",
    "\\begin{pmatrix}\n",
    "22 & 15 \\\\\n",
    "36 & 24 \\\\\n",
    "28 & 18\n",
    "\\end{pmatrix}\n",
    "$$"
   ]
  },
  {
   "cell_type": "markdown",
   "metadata": {},
   "source": []
  },
  {
   "cell_type": "markdown",
   "metadata": {},
   "source": [
    "### Bepaal C = A · b, met:"
   ]
  },
  {
   "cell_type": "markdown",
   "metadata": {},
   "source": [
    "$$ \n",
    "A = \n",
    "\\begin{pmatrix} \n",
    "3 & 1 \\\\ \n",
    "5 & 2 \\\\ \n",
    "2 & 5 \n",
    "\\end{pmatrix}\n",
    "\\quad\n",
    "b=3\n",
    "$$"
   ]
  },
  {
   "cell_type": "markdown",
   "metadata": {},
   "source": [
    "#### Antwoord:\n",
    "$$ \n",
    "C = A · b =\n",
    "\\begin{pmatrix}\n",
    "3 \\cdot 3 & 1 \\cdot 3 \\\\\n",
    "5 \\cdot 3 & 2 \\cdot 3 \\\\\n",
    "2 \\cdot 3 & 5 \\cdot 3\n",
    "\\end{pmatrix}\n",
    "=\n",
    "\\begin{pmatrix}\n",
    "9 & 3 \\\\\n",
    "15 & 6 \\\\\n",
    "6 & 15\n",
    "\\end{pmatrix}\n",
    "$$"
   ]
  },
  {
   "cell_type": "markdown",
   "metadata": {},
   "source": [
    "### Bepaal C = A · b, met:\n",
    "$$ \n",
    "A = \n",
    "\\begin{pmatrix} \n",
    "3 & 4 \\\\ \n",
    "6 & 4 \\\\ \n",
    "3 & 5 \n",
    "\\end{pmatrix}\n",
    "\\quad\n",
    "b=4\n",
    "$$"
   ]
  },
  {
   "cell_type": "markdown",
   "metadata": {},
   "source": [
    "#### Antwoord\n",
    "$$\n",
    "C = A · b =\n",
    "\\begin{pmatrix} \n",
    "3 \\cdot 4 & 4 \\cdot 4 \\\\ \n",
    "6 \\cdot 4 & 4 \\cdot 4 \\\\ \n",
    "3 \\cdot 4 & 5 \\cdot 4 \n",
    "\\end{pmatrix}\n",
    "=\n",
    "\\begin{pmatrix}\n",
    "12 & 16 \\\\ \n",
    "24 & 16 \\\\ \n",
    "12 & 20 \n",
    "\\end{pmatrix}\n",
    "$$"
   ]
  },
  {
   "cell_type": "markdown",
   "metadata": {},
   "source": [
    "## Determinant"
   ]
  },
  {
   "cell_type": "markdown",
   "metadata": {},
   "source": [
    "### Theorie 2 X 2 matrix determinant"
   ]
  },
  {
   "cell_type": "markdown",
   "metadata": {},
   "source": [
    "$$\n",
    "|A| = \\begin{vmatrix} \n",
    "a & b \\\\ \n",
    "c & d \\\\  \n",
    "\\end{vmatrix}\n",
    "=\n",
    "ad-bc\n",
    "$$"
   ]
  },
  {
   "cell_type": "markdown",
   "metadata": {},
   "source": [
    "### Opdrachten 2 X 2 matrix\n",
    "$$\n",
    "|A| = \\begin{vmatrix} \n",
    "3 & 5 \\\\ \n",
    "2 & 6 \\\\  \n",
    "\\end{vmatrix}\n",
    "=\n",
    "3\\cdot6-5\\cdot2\n",
    "=\n",
    "18-10\n",
    "=\n",
    "8\n",
    "$$"
   ]
  },
  {
   "cell_type": "markdown",
   "metadata": {},
   "source": [
    "$$\n",
    "|B| = \\begin{vmatrix} \n",
    "4 & 9 \\\\ \n",
    "3 & 7 \\\\  \n",
    "\\end{vmatrix}\n",
    "=\n",
    "3\\cdot7-9\\cdot3\n",
    "=\n",
    "21-27\n",
    "=\n",
    "-6\n",
    "$$"
   ]
  },
  {
   "cell_type": "markdown",
   "metadata": {},
   "source": [
    "### Theorie"
   ]
  },
  {
   "attachments": {
    "image.png": {
     "image/png": "[encoded data removed]"
    }
   },
   "cell_type": "markdown",
   "metadata": {},
   "source": [
    "Voor de 3x3 matrix is het iets anders. Hier worden de bovenste waarden a,b,c vermenigvuldigd met de determinant van de rijen waar de huidige waarde niet in zit.\n",
    "\n",
    "Voor duidelijkheid:\n",
    "![image.png](attachment:image.png)"
   ]
  },
  {
   "cell_type": "markdown",
   "metadata": {},
   "source": [
    "In formule ziet hij er zo uit:\n",
    "$$\n",
    "|A| = a(ei − fh) − b(di − fg) + c(dh − eg)\n",
    "$$"
   ]
  },
  {
   "cell_type": "markdown",
   "metadata": {},
   "source": [
    "### Theorie n X n determinant\n",
    "Voor de nXn determinant werkt het hetzelfde als de 3x3 determinant. Als voorbeeld een 4x4 determinant.\n",
    "Je pakt de **a** waarde en pak je de 3x3 determinant van de waardes die niet kruisen met de **a** waarde. Hierna vermenigvuldig je de **a** waarde met de 3x3 determinant.  Dit doe je ook bij de b waarde ect. Deze waardes worden in een +-+- patroon opgeschreven naast elkaar."
   ]
  },
  {
   "attachments": {
    "image.png": {
     "image/png": "[encoded data removed]"
    }
   },
   "cell_type": "markdown",
   "metadata": {},
   "source": [
    "![image.png](attachment:image.png)"
   ]
  },
  {
   "cell_type": "markdown",
   "metadata": {},
   "source": [
    "Met met meer waardes zoals een 5x5, 6x6, ect. gebruik je hetzelfe principe."
   ]
  },
  {
   "cell_type": "markdown",
   "metadata": {},
   "source": [
    "## Inverse bepalen"
   ]
  },
  {
   "cell_type": "markdown",
   "metadata": {},
   "source": [
    "$$\n",
    "A =\n",
    "\\begin{pmatrix}\n",
    "1 & 2 & 2\\\\\n",
    "1 & 2 & -1\\\\\n",
    "-1 & 1 & 4\\\\\n",
    "\\end{pmatrix}\n",
    "$$\n",
    "Gebruik row reduction:\n",
    "$$\n",
    "\\begin{pmatrix}\n",
    "1 & 2 & 2\\\\\n",
    "1 & 2 & -1\\\\\n",
    "-1 & 1 & 4\\\\\n",
    "\\end{pmatrix}\n",
    "\\begin{pmatrix}\n",
    "1 & 0 & 0\\\\\n",
    "0 & 1 & 0\\\\\n",
    "0 & 0 & 1\\\\\n",
    "\\end{pmatrix}\n",
    "$$\n",
    "R2 -> R2 - 1R <br/>\n",
    "R3 -> R3 + R1\n",
    "$$\n",
    "\\begin{pmatrix}\n",
    "1 & 2 & 2\\\\\n",
    "0 & 0 & -3\\\\\n",
    "0 & 3 & 6\\\\\n",
    "\\end{pmatrix}\n",
    "\\begin{pmatrix}\n",
    "1 & 0 & 0\\\\\n",
    "-1 & 1 & 0\\\\\n",
    "1 & 0 & 1\\\\\n",
    "\\end{pmatrix}\n",
    "$$\n",
    "R2 -> R2 + 1/3R3\n",
    "$$\n",
    "\\begin{pmatrix}\n",
    "1 & 2 & 2\\\\\n",
    "0 & 1 & -1\\\\\n",
    "0 & 3 & 6\\\\\n",
    "\\end{pmatrix}\n",
    "\\begin{pmatrix}\n",
    "1 & 0 & 0\\\\\n",
    "-\\frac{2}{3} & 1 & \\frac{1}{3}\\\\\n",
    "1 & 0 & 1\\\\\n",
    "\\end{pmatrix}\n",
    "$$\n",
    "R1 -> R1 - 2R2 <br/>\n",
    "R3 -> R3 - 3R2\n",
    "$$\n",
    "\\begin{pmatrix}\n",
    "1 & 0 & 4\\\\\n",
    "0 & 1 & -1\\\\\n",
    "0 & 0 & 9\\\\\n",
    "\\end{pmatrix}\n",
    "\\begin{pmatrix}\n",
    "\\frac{7}{3} & -2 & -\\frac{2}{3}\\\\\n",
    "-\\frac{2}{3} & 1 & \\frac{1}{3}\\\\\n",
    "3 & -3 & 0\\\\\n",
    "\\end{pmatrix}\n",
    "$$\n",
    "R3 -> 1/9R3\n",
    "$$\n",
    "\\begin{pmatrix}\n",
    "1 & 0 & 4\\\\\n",
    "0 & 1 & -1\\\\\n",
    "0 & 0 & 1\\\\\n",
    "\\end{pmatrix}\n",
    "\\begin{pmatrix}\n",
    "\\frac{7}{3} & -2 & -\\frac{2}{3}\\\\\n",
    "-\\frac{2}{3} & 1 & \\frac{1}{3}\\\\\n",
    "\\frac{1}{3} & -\\frac{1}{3} & 0\\\\\n",
    "\\end{pmatrix}\n",
    "$$\n",
    "R1 -> R1 - 4R3 <br/>\n",
    "R2 -> R2 + R3\n",
    "$$\n",
    "\\begin{pmatrix}\n",
    "1 & 0 & 0\\\\\n",
    "0 & 1 & 0\\\\\n",
    "0 & 0 & 1\\\\\n",
    "\\end{pmatrix}\n",
    "\\begin{pmatrix}\n",
    "1 & -\\frac{2}{3} & -\\frac{2}{3}\\\\\n",
    "-\\frac{1}{3} & \\frac{2}{3} & \\frac{1}{3}\\\\\n",
    "\\frac{1}{3} & -\\frac{1}{3} & 0\\\\\n",
    "\\end{pmatrix}\n",
    "$$"
   ]
  },
  {
   "cell_type": "markdown",
   "metadata": {},
   "source": [
    "$$\n",
    "A^{-1} = \\begin{pmatrix}\n",
    "1 & -\\frac{2}{3} & -\\frac{2}{3}\\\\\n",
    "-\\frac{1}{3} & \\frac{2}{3} & \\frac{1}{3}\\\\\n",
    "\\frac{1}{3} & -\\frac{1}{3} & 0\\\\\n",
    "\\end{pmatrix}\n",
    "$$"
   ]
  },
  {
   "cell_type": "markdown",
   "metadata": {},
   "source": [
    "## Transpose Matrix\n"
   ]
  },
  {
   "cell_type": "markdown",
   "metadata": {},
   "source": [
    "### 1X3 Matrix\n",
    "$$\n",
    "A =\n",
    "\\begin{pmatrix}\n",
    "1 \\\\\n",
    "5 \\\\\n",
    "1 \\\\\n",
    "\\end{pmatrix}\n",
    "$$\n",
    "$$\n",
    "A^T=\n",
    "\\begin{pmatrix}\n",
    "1 & 5 & 1 \\\\\n",
    "\\end{pmatrix}\n",
    "$$"
   ]
  },
  {
   "cell_type": "markdown",
   "metadata": {},
   "source": [
    "### 2x3 matrix\n",
    "$$\n",
    "A =\n",
    "\\begin{pmatrix}\n",
    "3 & 1 \\\\\n",
    "2 & 5 \\\\\n",
    "5 & 1 \\\\\n",
    "\\end{pmatrix}\n",
    "$$\n",
    "$$\n",
    "A^T=\n",
    "\\begin{pmatrix}\n",
    "3 & 2 & 5\\\\\n",
    "1 & 5 & 1\\\\\n",
    "\\end{pmatrix}\n",
    "$$\n",
    "Dit werkt ook andersom\n",
    "\n",
    "\n",
    "$$\n",
    "A =\n",
    "\\begin{pmatrix}\n",
    "3 & 2 & 5\\\\\n",
    "1 & 5 & 1\\\\\n",
    "\\end{pmatrix}\n",
    "$$\n",
    "$$\n",
    "A^T=\n",
    "\\begin{pmatrix}\n",
    "3 & 1 \\\\\n",
    "2 & 5 \\\\\n",
    "5 & 1 \\\\\n",
    "\\end{pmatrix}\n",
    "$$"
   ]
  },
  {
   "cell_type": "markdown",
   "metadata": {},
   "source": [
    "## Bronnen\n",
    "Afbeelding 1:\n",
    "https://www.quora.com/What-is-Manhattan-Distance geraadpleegd op: 23-2-2021\n",
    "\n",
    "Afbeelding 2:\n",
    "https://en.wikipedia.org/wiki/Euclidean_distance geraadpleegd op: 23-2-2021\n",
    "\n",
    "Determinant fotos:\n",
    "https://www.mathsisfun.com/algebra/matrix-determinant.html"
   ]
  }
 ],
 "metadata": {
  "kernelspec": {
   "display_name": "Python 3",
   "language": "python",
   "name": "python3"
  },
  "language_info": {
   "codemirror_mode": {
    "name": "ipython",
    "version": 3
   },
   "file_extension": ".py",
   "mimetype": "text/x-python",
   "name": "python",
   "nbconvert_exporter": "python",
   "pygments_lexer": "ipython3",
   "version": "3.8.5"
  },
  "toc": {
   "base_numbering": 1,
   "nav_menu": {},
   "number_sections": false,
   "sideBar": true,
   "skip_h1_title": false,
   "title_cell": "Table of Contents",
   "title_sidebar": "Contents",
   "toc_cell": true,
   "toc_position": {
    "height": "calc(100% - 180px)",
    "left": "10px",
    "top": "150px",
    "width": "165px"
   },
   "toc_section_display": true,
   "toc_window_display": true
  },
  "varInspector": {
   "cols": {
    "lenName": 16,
    "lenType": 16,
    "lenVar": 40
   },
   "kernels_config": {
    "python": {
     "delete_cmd_postfix": "",
     "delete_cmd_prefix": "del ",
     "library": "var_list.py",
     "varRefreshCmd": "print(var_dic_list())"
    },
    "r": {
     "delete_cmd_postfix": ") ",
     "delete_cmd_prefix": "rm(",
     "library": "var_list.r",
     "varRefreshCmd": "cat(var_dic_list()) "
    }
   },
   "types_to_exclude": [
    "module",
    "function",
    "builtin_function_or_method",
    "instance",
    "_Feature"
   ],
   "window_display": false
  }
 },
 "nbformat": 4,
 "nbformat_minor": 4
}
