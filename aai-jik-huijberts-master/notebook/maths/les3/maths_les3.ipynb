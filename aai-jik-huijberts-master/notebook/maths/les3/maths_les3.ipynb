{
 "cells": [
  {
   "cell_type": "markdown",
   "metadata": {},
   "source": [
    "# Wiskunde les 3"
   ]
  },
  {
   "cell_type": "markdown",
   "metadata": {
    "toc": true
   },
   "source": [
    "<h1>Table of Contents<span class=\"tocSkip\"></span></h1>\n",
    "<div class=\"toc\"><ul class=\"toc-item\"><li><span><a href=\"#Wiskunde-les-3\" data-toc-modified-id=\"Wiskunde-les-3-1\">Wiskunde les 3</a></span><ul class=\"toc-item\"><li><span><a href=\"#Stap-1\" data-toc-modified-id=\"Stap-1-1.1\">Stap 1</a></span></li><li><span><a href=\"#Stap-2\" data-toc-modified-id=\"Stap-2-1.2\">Stap 2</a></span><ul class=\"toc-item\"><li><span><a href=\"#Cross-entropy\" data-toc-modified-id=\"Cross-entropy-1.2.1\">Cross entropy</a></span></li><li><span><a href=\"#Sigmoid\" data-toc-modified-id=\"Sigmoid-1.2.2\">Sigmoid</a></span></li></ul></li></ul></li></ul></div>"
   ]
  },
  {
   "cell_type": "code",
   "execution_count": null,
   "metadata": {},
   "outputs": [],
   "source": []
  },
  {
   "cell_type": "markdown",
   "metadata": {},
   "source": [
    "## Stap 1"
   ]
  },
  {
   "cell_type": "markdown",
   "metadata": {},
   "source": [
    "Bepaal $$ \\frac{\\partial Z}{\\partial x} \\text{ & } \\frac{\\partial Z}{ \\partial y}$$ voor de volgende functies:"
   ]
  },
  {
   "cell_type": "markdown",
   "metadata": {},
   "source": [
    "1.\n",
    "$$\n",
    "Z(x,y) = x^4 + x^3y^2 + y^5 +8\n",
    "$$"
   ]
  },
  {
   "cell_type": "markdown",
   "metadata": {},
   "source": [
    "#### Antwoord:\n",
    "$$\n",
    " \\frac{\\partial Z}{\\partial x} = 4x^3 + 3 x^2y^2\n",
    "$$\n",
    "$$\n",
    "= x^2(4x+3y^2)\n",
    "$$\n",
    "\n",
    "\n",
    "$$\n",
    "\\frac{\\partial Z}{ \\partial y} = 2x^3y+5𝑦^4\n",
    "$$"
   ]
  },
  {
   "cell_type": "markdown",
   "metadata": {},
   "source": [
    "2.\n",
    "$$\n",
    "Z(x,y) = x^3 + x^2y^4 - 2y^5\n",
    "$$"
   ]
  },
  {
   "cell_type": "markdown",
   "metadata": {},
   "source": [
    "#### Antwoord:\n",
    "\n",
    "$$\n",
    "\\frac{\\partial Z}{\\partial x} = 3x^2+2xy^4\n",
    "$$\n",
    "$$\n",
    "= x(3x+2y^4)\n",
    "$$\n",
    "\n",
    "$$\n",
    "\\frac{\\partial Z}{ \\partial y} = 4x^2y^3 -10y^4\n",
    "$$\n",
    "$$\n",
    "= 2y^3(2x^2-5y)\n",
    "$$"
   ]
  },
  {
   "cell_type": "markdown",
   "metadata": {},
   "source": [
    "3.\n",
    "$$\n",
    "Z(x,y) = -3x^3y^2+5\n",
    "$$"
   ]
  },
  {
   "cell_type": "markdown",
   "metadata": {},
   "source": [
    "#### Antwoord:"
   ]
  },
  {
   "cell_type": "markdown",
   "metadata": {},
   "source": [
    "$$\n",
    "\\frac{\\partial Z}{\\partial x} = -9x^2y^2\n",
    "$$\n",
    "\n",
    "\n",
    "$$\n",
    "\\frac{\\partial Z}{ \\partial y} = -6x^3y\n",
    "$$"
   ]
  },
  {
   "cell_type": "markdown",
   "metadata": {},
   "source": [
    "## Stap 2"
   ]
  },
  {
   "cell_type": "markdown",
   "metadata": {},
   "source": [
    "Bepaal de partieel afgeleide van verschillende kostenfuncties.\n",
    "### Cross entropy"
   ]
  },
  {
   "cell_type": "markdown",
   "metadata": {},
   "source": [
    "\n",
    "$$\n",
    "J(\\theta_0,\\theta_1) = \\frac{1}{m} \\sum_{i=1}^my^{(i)} \\cdot ln(h_θ(x^{(i)}))\n",
    "$$\n",
    "$$\n",
    "h(x^{(i)}) = \\theta_0 + \\theta_1x^{(i)}\n",
    "$$\n",
    "$$\n",
    "\\frac{\\delta h_\\theta(x^{(i)})}{\\delta \\theta_0} = 1\n",
    "$$\n",
    "$$\n",
    "\\frac{\\delta h_\\theta(x^{(i)})}{\\delta \\theta_1} = x^{(i)}\n",
    "$$"
   ]
  },
  {
   "cell_type": "markdown",
   "metadata": {},
   "source": [
    "$$\n",
    "\\frac{\\delta}{\\delta \\theta_1} = \\frac{1}{m} \\sum_{i=1}^m y^{(i)} \\cdot \\frac{1}{x^{(i)}}\n",
    "=\n",
    "\\frac{1}{m} \\sum_{i=1}^m \\frac{y^{(i)}}{x^{(i)}}\n",
    "$$\n",
    "$$\n",
    "\\frac{\\delta}{\\delta \\theta_0} = \\frac{1}{m} \\sum_{i=1}^m y^{(i)}\n",
    "$$"
   ]
  },
  {
   "cell_type": "markdown",
   "metadata": {},
   "source": [
    "### Sigmoid"
   ]
  },
  {
   "cell_type": "markdown",
   "metadata": {},
   "source": [
    "$$\n",
    "\\phi(x) = \\frac{1}{1+e^{-x}}\n",
    "$$\n",
    "$$\n",
    "\\frac{d}{dx} \\phi(x) = \\frac{d}{dx}[\\frac{1}{1+e^{-x}}]\n",
    "$$\n",
    "$$\n",
    "= \\frac{d}{dx}(1+e^{-x})^{-1}\n",
    "$$\n",
    "**Gebruik Kettingregel**\n",
    "$$\n",
    "= -(1+e^{-x})^{-2}(-e^{-x})\n",
    "$$\n",
    "$$\n",
    "= \\frac{e^{-x}}{(1+e^{-x})^2}\n",
    "$$"
   ]
  },
  {
   "cell_type": "markdown",
   "metadata": {},
   "source": []
  }
 ],
 "metadata": {
  "kernelspec": {
   "display_name": "Python 3",
   "language": "python",
   "name": "python3"
  },
  "language_info": {
   "codemirror_mode": {
    "name": "ipython",
    "version": 3
   },
   "file_extension": ".py",
   "mimetype": "text/x-python",
   "name": "python",
   "nbconvert_exporter": "python",
   "pygments_lexer": "ipython3",
   "version": "3.8.5"
  },
  "toc": {
   "base_numbering": 1,
   "nav_menu": {},
   "number_sections": false,
   "sideBar": true,
   "skip_h1_title": false,
   "title_cell": "Table of Contents",
   "title_sidebar": "Contents",
   "toc_cell": true,
   "toc_position": {},
   "toc_section_display": true,
   "toc_window_display": true
  },
  "varInspector": {
   "cols": {
    "lenName": 16,
    "lenType": 16,
    "lenVar": 40
   },
   "kernels_config": {
    "python": {
     "delete_cmd_postfix": "",
     "delete_cmd_prefix": "del ",
     "library": "var_list.py",
     "varRefreshCmd": "print(var_dic_list())"
    },
    "r": {
     "delete_cmd_postfix": ") ",
     "delete_cmd_prefix": "rm(",
     "library": "var_list.r",
     "varRefreshCmd": "cat(var_dic_list()) "
    }
   },
   "types_to_exclude": [
    "module",
    "function",
    "builtin_function_or_method",
    "instance",
    "_Feature"
   ],
   "window_display": false
  }
 },
 "nbformat": 4,
 "nbformat_minor": 4
}