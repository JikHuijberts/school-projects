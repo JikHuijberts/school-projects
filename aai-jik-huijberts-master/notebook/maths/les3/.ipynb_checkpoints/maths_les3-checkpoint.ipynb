{
 "cells": [
  {
   "cell_type": "markdown",
   "metadata": {
    "toc": true
   },
   "source": [
    "<h1>Table of Contents<span class=\"tocSkip\"></span></h1>\n",
    "<div class=\"toc\"><ul class=\"toc-item\"><li><span><a href=\"#Stap-1\" data-toc-modified-id=\"Stap-1-1\">Stap 1</a></span><ul class=\"toc-item\"><li><ul class=\"toc-item\"><li><span><a href=\"#Antwoord:\" data-toc-modified-id=\"Antwoord:-1.0.1\">Antwoord:</a></span></li><li><span><a href=\"#Antwoord:\" data-toc-modified-id=\"Antwoord:-1.0.2\">Antwoord:</a></span></li><li><span><a href=\"#Antwoord:\" data-toc-modified-id=\"Antwoord:-1.0.3\">Antwoord:</a></span></li></ul></li></ul></li><li><span><a href=\"#Stap-2\" data-toc-modified-id=\"Stap-2-2\">Stap 2</a></span><ul class=\"toc-item\"><li><span><a href=\"#Mean-Squared-Error\" data-toc-modified-id=\"Mean-Squared-Error-2.1\">Mean Squared Error</a></span></li><li><span><a href=\"#Mean-Absolute-Error\" data-toc-modified-id=\"Mean-Absolute-Error-2.2\">Mean Absolute Error</a></span></li></ul></li></ul></div>"
   ]
  },
  {
   "cell_type": "code",
   "execution_count": null,
   "metadata": {},
   "outputs": [],
   "source": []
  },
  {
   "cell_type": "markdown",
   "metadata": {},
   "source": [
    "## Stap 1"
   ]
  },
  {
   "cell_type": "markdown",
   "metadata": {},
   "source": [
    "Bepaal $$ \\frac{\\partial Z}{\\partial x} \\text{ & } \\frac{\\partial Z}{ \\partial y}$$ voor de volgende functies:"
   ]
  },
  {
   "cell_type": "markdown",
   "metadata": {},
   "source": [
    "1.\n",
    "$$\n",
    "Z(x,y) = x^4 + x^3y^2 + y^5 +8\n",
    "$$"
   ]
  },
  {
   "cell_type": "markdown",
   "metadata": {},
   "source": [
    "#### Antwoord:\n",
    "$$\n",
    " \\frac{\\partial Z}{\\partial x} = 4x^3 + 3 x^2y^2\n",
    "$$\n",
    "$$\n",
    "= x^2(4x+3y^2)\n",
    "$$\n",
    "\n",
    "\n",
    "$$\n",
    "\\frac{\\partial Z}{ \\partial y} = 2x^3y+5𝑦^4\n",
    "$$"
   ]
  },
  {
   "cell_type": "markdown",
   "metadata": {},
   "source": [
    "2.\n",
    "$$\n",
    "Z(x,y) = x^3 + x^2y^4 - 2y^5\n",
    "$$"
   ]
  },
  {
   "cell_type": "markdown",
   "metadata": {},
   "source": [
    "#### Antwoord:\n",
    "\n",
    "$$\n",
    "\\frac{\\partial Z}{\\partial x} = 3x^2+2xy^4\n",
    "$$\n",
    "$$\n",
    "= x(3x+2y^4)\n",
    "$$\n",
    "\n",
    "$$\n",
    "\\frac{\\partial Z}{ \\partial y} = 4x^2y^3 -10y^4\n",
    "$$\n",
    "$$\n",
    "= 2y^3(2x^2-5y)\n",
    "$$"
   ]
  },
  {
   "cell_type": "markdown",
   "metadata": {},
   "source": [
    "3.\n",
    "$$\n",
    "Z(x,y) = -3x^3y^2+5\n",
    "$$"
   ]
  },
  {
   "cell_type": "markdown",
   "metadata": {},
   "source": [
    "#### Antwoord:"
   ]
  },
  {
   "cell_type": "markdown",
   "metadata": {},
   "source": [
    "$$\n",
    "\\frac{\\partial Z}{\\partial x} = -9x^2y^2\n",
    "$$\n",
    "\n",
    "\n",
    "$$\n",
    "\\frac{\\partial Z}{ \\partial y} = -6x^3y\n",
    "$$"
   ]
  },
  {
   "cell_type": "markdown",
   "metadata": {},
   "source": [
    "## Stap 2"
   ]
  },
  {
   "cell_type": "markdown",
   "metadata": {},
   "source": [
    "Bepaal de partieel afgeleide van verschillende kostenfuncties."
   ]
  },
  {
   "cell_type": "markdown",
   "metadata": {},
   "source": [
    "### Mean Squared Error\n",
    "Function\n",
    "$$\n",
    "MSE = \\frac{1}{n} \\sum_{i=1}^n(Y_i - Y_i)^2\n",
    "$$"
   ]
  },
  {
   "cell_type": "markdown",
   "metadata": {},
   "source": [
    "### Mean Absolute Error"
   ]
  },
  {
   "cell_type": "markdown",
   "metadata": {},
   "source": [
    "Bepaal de partieel afgeleide van verschillende kostenfuncties."
   ]
  }
 ],
 "metadata": {
  "kernelspec": {
   "display_name": "Python 3",
   "language": "python",
   "name": "python3"
  },
  "language_info": {
   "codemirror_mode": {
    "name": "ipython",
    "version": 3
   },
   "file_extension": ".py",
   "mimetype": "text/x-python",
   "name": "python",
   "nbconvert_exporter": "python",
   "pygments_lexer": "ipython3",
   "version": "3.8.5"
  },
  "toc": {
   "base_numbering": 1,
   "nav_menu": {},
   "number_sections": false,
   "sideBar": true,
   "skip_h1_title": false,
   "title_cell": "Table of Contents",
   "title_sidebar": "Contents",
   "toc_cell": true,
   "toc_position": {},
   "toc_section_display": true,
   "toc_window_display": true
  },
  "varInspector": {
   "cols": {
    "lenName": 16,
    "lenType": 16,
    "lenVar": 40
   },
   "kernels_config": {
    "python": {
     "delete_cmd_postfix": "",
     "delete_cmd_prefix": "del ",
     "library": "var_list.py",
     "varRefreshCmd": "print(var_dic_list())"
    },
    "r": {
     "delete_cmd_postfix": ") ",
     "delete_cmd_prefix": "rm(",
     "library": "var_list.r",
     "varRefreshCmd": "cat(var_dic_list()) "
    }
   },
   "types_to_exclude": [
    "module",
    "function",
    "builtin_function_or_method",
    "instance",
    "_Feature"
   ],
   "window_display": false
  }
 },
 "nbformat": 4,
 "nbformat_minor": 4
}
