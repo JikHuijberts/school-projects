{
 "cells": [
  {
   "cell_type": "markdown",
   "metadata": {
    "collapsed": true,
    "pycharm": {
     "name": "#%% md\n"
    }
   },
   "source": [
    "# Reinforcement Learning\n",
    "Is een type machine learning techniek. Deze techniek kan leren van\n",
    "\n",
    "De model die\n",
    "\n",
    "State:\n",
    "##### Agent:\n",
    "\n",
    "\n",
    "##### Environment:\n",
    "De environment is de fysieke omgeving waar de Agent zich in bevind. Dit verschilt natuurlijk per Agent. De beloningen\n",
    "zijn aangepast op de omgeving waar hij zich in beland\n",
    "##### Toestanden:\n",
    "Dit is de huidige situatie van de methode\n",
    "##### Beloningen:\n",
    "De beloningen zijn de waarden van de omgeving\n",
    "##### Policy:\n",
    "Method to map agent’s state to actions\n",
    "##### Value/Waarde:\n",
    "Is de waarde dat gegeven wordt aan de Agent. Dus dit kan gezien worden als een totale berekening van alle waarden\n",
    "hierboven.\n",
    "\n",
    "\n",
    "##### Voorbeeld\n",
    "Als voorbeeld het beheersen van het spelen van pong. Dit is een paper die uitgebracht is in 2013 over een reenforcement\n",
    "learning deep learning model dat pong kon spelen.\n",
    "\n",
    "##### Agent\n",
    "De agent in dit geval is de Deep learning model die pong probeert te winnen. Dus de agent bestuurd zijn eigen \"tennis\"\n",
    "bar.\n",
    "##### Action\n",
    "De acties die hij heeft is het (omhoog/omlaag) bewegen van de \"tennis\" bar.\n",
    "##### Enviroment\n",
    "De omgeving is natuurlijk de gehele pong omgeving. Dit kan je ook de Atari omgeving noemen.\n",
    "##### State\n",
    "De staat van het pong spel is lastiger. Dit werd gedaan door de kans te berekenen om omhoog te gaan. Als de waarde boven\n",
    "een half kwam moest hij omhoog anders omlaag.\n",
    "##### Beloningen\n",
    "De beloningen die zijn gebruikt is het winnen/verliezen van een ronde. Als de agent een punt kon winnen kreeg hij een +\n",
    "en bij een punt verliezen een - waarde.\n",
    "\n",
    "##### Q-learning\n",
    "Q-learning is een van de reinforcement learning methodes.\n",
    "\n",
    "![Q-learning](Q-learning.png)\n",
    "### Voorbeelden:\n"
   ]
  }
 ],
 "metadata": {
  "kernelspec": {
   "display_name": "Python 3",
   "language": "python",
   "name": "python3"
  },
  "language_info": {
   "codemirror_mode": {
    "name": "ipython",
    "version": 2
   },
   "file_extension": ".py",
   "mimetype": "text/x-python",
   "name": "python",
   "nbconvert_exporter": "python",
   "pygments_lexer": "ipython2",
   "version": "2.7.6"
  }
 },
 "nbformat": 4,
 "nbformat_minor": 0
}