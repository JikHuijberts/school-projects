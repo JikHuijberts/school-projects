{
 "cells": [
  {
   "cell_type": "markdown",
   "metadata": {
    "collapsed": true,
    "pycharm": {
     "name": "#%% md\n"
    }
   },
   "source": [
    "# Adversarial learning\n",
    "Adversarial\n",
    "## Poisoning\n",
    "Ai modellen die visuele data moeten verwerken kunnen gefopt worden door het \"vergiftigen\" van een foto.\n",
    "Dit kan op een niveau dat de gegeven foto lijkt op een normale foto maar de Ai model denkt dat het compleet anders is.\n",
    "Hieronder zie je een foto van een Schildpad waar ruis is toegevoegd. Hierdoor lijkt het voor het menselijk oog nog op\n",
    "een schildpad, maar laat de Ai denken dat het een geweer is.\n",
    "\n",
    "![turtle](ai-adversarial-attack-turtle.png)\n",
    "\n",
    "## Generative Adversarial Networks\n",
    "Om poisoning te voorkomen worden Generative Adversarial Networks gemaakt.\n",
    "\n",
    "![GAN](GAN.jpeg)\n",
    "\n",
    "Dit is een gecombineerd model die een generator en een discriminator gebruikt. Een generator voert ruis in bij de\n",
    "huidige training data. Daarna moet de discriminator in gaan schatten of het beeld echt of dat er mee geknoeid is.\n",
    "Deze modellen train je door de output door te voeren naar elkaar (de gestippelde lijnen). Na veel trainen komen de\n",
    "generator en de discriminator heel dicht bij elkaar. Hieruit kan je nieuwe data genereren voor trainingsdoeleinden\n",
    "en heb je een discriminator die goed kan inschatten of de gegeven plaatje \"vergiftigd\" is. Voor python zijn er libraries\n",
    "die erg compatibel zijn voor verschillende grote libraries en veel getraint hebben (ART)."
   ]
  }
 ],
 "metadata": {
  "kernelspec": {
   "display_name": "Python 3",
   "language": "python",
   "name": "python3"
  },
  "language_info": {
   "codemirror_mode": {
    "name": "ipython",
    "version": 2
   },
   "file_extension": ".py",
   "mimetype": "text/x-python",
   "name": "python",
   "nbconvert_exporter": "python",
   "pygments_lexer": "ipython2",
   "version": "2.7.6"
  }
 },
 "nbformat": 4,
 "nbformat_minor": 0
}