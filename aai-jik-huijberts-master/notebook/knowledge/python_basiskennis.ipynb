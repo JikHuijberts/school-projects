{
 "cells": [
  {
   "cell_type": "markdown",
   "metadata": {
    "collapsed": true,
    "pycharm": {
     "name": "#%% md\n"
    }
   },
   "source": [
    "# Python Basics\n",
    "Omdat niet alle functionaliteiten in deze git gebruikt wordt van de python basiskennis, wordt hier in het klein alle\n",
    "belangrijke delen van de basiskennis.\n",
    "\n",
    "\n",
    "## Slicing\n",
    "Omdat slicing al veel gebruikt wordt in meerdere opdrachten ga ik hier snel overheen.\n",
    "\n",
    "Slicing wordt gebruikt om verschillende delen van een array/dataset te selecteren."
   ]
  },
  {
   "cell_type": "code",
   "execution_count": 5,
   "outputs": [
    {
     "name": "stdout",
     "output_type": "stream",
     "text": [
      "[20, 30, 40, 50, 60, 70, 80]\n",
      "[10, 20, 30, 40, 50, 60, 70, 80]\n",
      "[90]\n"
     ]
    }
   ],
   "source": [
    "numbers =  [10,20,30,40,50,60,70,80,90]\n",
    "\n",
    "twoToEight = numbers[1:8]\n",
    "# Gebruik van min\n",
    "oneToEight = numbers[:-1]\n",
    "lastValue = numbers[-1:]\n",
    "print(twoToEight)\n",
    "print(oneToEight)\n",
    "print(lastValue)"
   ],
   "metadata": {
    "collapsed": false,
    "pycharm": {
     "name": "#%%\n"
    }
   }
  },
  {
   "cell_type": "markdown",
   "source": [
    "## Comprehensions"
   ],
   "metadata": {
    "collapsed": false,
    "pycharm": {
     "name": "#%% md\n"
    }
   },
   "outputs": [],
   "execution_count": 1
  },
  {
   "cell_type": "code",
   "execution_count": 40,
   "outputs": [],
   "source": [
    "dieren =  [\"aap\",\"leeuw\",\"zebra\",\"zeepaardje\",\"hond\"]"
   ],
   "metadata": {
    "collapsed": false,
    "pycharm": {
     "name": "#%%\n"
    }
   }
  },
  {
   "cell_type": "markdown",
   "source": [
    "Zonder comprehensions"
   ],
   "metadata": {
    "collapsed": false,
    "pycharm": {
     "name": "#%% md\n"
    }
   }
  },
  {
   "cell_type": "code",
   "execution_count": null,
   "outputs": [],
   "source": [
    "newList =[]\n",
    "for x in dieren:\n",
    "  if \"a\" in x:\n",
    "    newList.append(x)\n",
    "print(newList)"
   ],
   "metadata": {
    "collapsed": false,
    "pycharm": {
     "name": "#%%\n"
    }
   }
  },
  {
   "cell_type": "markdown",
   "source": [
    "met comprehension"
   ],
   "metadata": {
    "collapsed": false,
    "pycharm": {
     "name": "#%% md\n"
    }
   }
  },
  {
   "cell_type": "code",
   "execution_count": null,
   "outputs": [],
   "source": [
    "newList = [x for x in dieren if \"a\" in x]\n",
    "print(newList)"
   ],
   "metadata": {
    "collapsed": false,
    "pycharm": {
     "name": "#%%\n"
    }
   }
  },
  {
   "cell_type": "markdown",
   "source": [
    "zoals je ziet worden comprehensions gebruikt voor inline loops en vooral het maken van nieuwe arrays met voorwaarden.\n",
    "Wat wel nog soms gedaan moet worden is er een `np.array()` functie aan toegevoegd worden om het weer een numpy array\n",
    "te creeren. Want als je comprehensions gebruikt wordt het een standaard python list."
   ],
   "metadata": {
    "collapsed": false,
    "pycharm": {
     "name": "#%% md\n"
    }
   }
  },
  {
   "cell_type": "markdown",
   "source": [
    "## Dictionaries python\n",
    "\n",
    "#### Create a dictionary"
   ],
   "metadata": {
    "collapsed": false,
    "pycharm": {
     "name": "#%% md\n"
    }
   }
  },
  {
   "cell_type": "code",
   "execution_count": 41,
   "outputs": [],
   "source": [
    "dict1 = {\n",
    "    \"name\":\"Jik\",\n",
    "    \"surname\":\"Huijberts\",\n",
    "    \"subject\":\"Dictionary\",\n",
    "    0:\"use of integer\",\n",
    "    \"integer\": 1\n",
    "}\n",
    "dict2 = dict(\n",
    "    name=\"Jik\",\n",
    "    surname=\"Huijberts\",\n",
    "    subject=\"Dictionary\"\n",
    ")\n"
   ],
   "metadata": {
    "collapsed": false,
    "pycharm": {
     "name": "#%%\n"
    }
   }
  },
  {
   "cell_type": "markdown",
   "source": [
    "#### Getting and Setting values"
   ],
   "metadata": {
    "collapsed": false,
    "pycharm": {
     "name": "#%% md\n"
    }
   }
  },
  {
   "cell_type": "code",
   "execution_count": 42,
   "outputs": [
    {
     "name": "stdout",
     "output_type": "stream",
     "text": [
      "Jik\n",
      "Huijberts\n",
      "\n",
      "Eric\n",
      "Clapton\n",
      "\n",
      "Huijberts\n",
      "Jik\n"
     ]
    }
   ],
   "source": [
    "# find by key\n",
    "print(dict1['name'])\n",
    "print(dict2['surname'] + \"\\n\")\n",
    "# Result should be Jik and Huijberts\n",
    "\n",
    "firstName = \"Eric\"\n",
    "dict1[\"name\"] = firstName\n",
    "dict2[\"surname\"] = \"Clapton\"\n",
    "print(dict1['name'])\n",
    "print(dict2['surname'] + \"\\n\")\n",
    "# Result should be Eric Clapton\n",
    "\n",
    "print(dict1.get(\"surname\"))\n",
    "print(dict2[\"name\"])\n",
    "# Result should be Huijberts Jik"
   ],
   "metadata": {
    "collapsed": false,
    "pycharm": {
     "name": "#%%\n"
    }
   }
  },
  {
   "cell_type": "markdown",
   "source": [
    "#### Adding and Removing values"
   ],
   "metadata": {
    "collapsed": false,
    "pycharm": {
     "name": "#%% md\n"
    }
   }
  },
  {
   "cell_type": "code",
   "execution_count": 43,
   "outputs": [
    {
     "name": "stdout",
     "output_type": "stream",
     "text": [
      "2\n"
     ]
    }
   ],
   "source": [
    "# Het toevoegen\n",
    "dict1[\"newInteger\"] = 2\n",
    "print(dict1[\"newInteger\"])"
   ],
   "metadata": {
    "collapsed": false,
    "pycharm": {
     "name": "#%%\n"
    }
   }
  },
  {
   "cell_type": "code",
   "execution_count": 44,
   "outputs": [
    {
     "name": "stdout",
     "output_type": "stream",
     "text": [
      "removing the 1 value\n",
      "removing the last value: ('newInteger', 2)\n"
     ]
    }
   ],
   "source": [
    "print(\"removing the \" + str(dict1.pop(\"integer\")) + \" value\")\n",
    "print(\"removing the last value: \" + str(dict1.popitem()))"
   ],
   "metadata": {
    "collapsed": false,
    "pycharm": {
     "name": "#%%\n"
    }
   }
  },
  {
   "cell_type": "markdown",
   "source": [
    "Zoals je ziet is de **integer** waarde verwijderd. Bij het gebruik van `.pop()` wordt de waarde terug gegeven. Vandaar\n",
    "de 1 waarde in de print functie."
   ],
   "metadata": {
    "collapsed": false
   }
  },
  {
   "cell_type": "code",
   "execution_count": 45,
   "outputs": [
    {
     "name": "stdout",
     "output_type": "stream",
     "text": [
      "{'name': 'Jik', 'surname': 'Clapton', 'subject': 'Dictionary'}\n",
      "{}\n"
     ]
    }
   ],
   "source": [
    "# Removing all values\n",
    "print(dict2)\n",
    "dict2.clear()\n",
    "print(dict2)"
   ],
   "metadata": {
    "collapsed": false,
    "pycharm": {
     "name": "#%%\n"
    }
   }
  },
  {
   "cell_type": "markdown",
   "source": [
    "#### Alle keys en waardes laten zien"
   ],
   "metadata": {
    "collapsed": false,
    "pycharm": {
     "name": "#%% md\n"
    }
   }
  },
  {
   "cell_type": "code",
   "execution_count": 46,
   "outputs": [
    {
     "name": "stdout",
     "output_type": "stream",
     "text": [
      "dict_keys(['name', 'surname', 'subject', 0])\n",
      "dict_values(['Eric', 'Huijberts', 'Dictionary', 'use of integer'])\n"
     ]
    }
   ],
   "source": [
    "print(dict1.keys())\n",
    "print(dict1.values())\n"
   ],
   "metadata": {
    "collapsed": false,
    "pycharm": {
     "name": "#%%\n"
    }
   }
  }
 ],
 "metadata": {
  "kernelspec": {
   "display_name": "Python 3",
   "language": "python",
   "name": "python3"
  },
  "language_info": {
   "codemirror_mode": {
    "name": "ipython",
    "version": 2
   },
   "file_extension": ".py",
   "mimetype": "text/x-python",
   "name": "python",
   "nbconvert_exporter": "python",
   "pygments_lexer": "ipython2",
   "version": "2.7.6"
  }
 },
 "nbformat": 4,
 "nbformat_minor": 0
}