{
 "metadata": {
  "language_info": {
   "codemirror_mode": {
    "name": "ipython",
    "version": 3
   },
   "file_extension": ".py",
   "mimetype": "text/x-python",
   "name": "python",
   "nbconvert_exporter": "python",
   "pygments_lexer": "ipython3",
   "version": "3.8.5-final"
  },
  "orig_nbformat": 2,
  "kernelspec": {
   "name": "python3",
   "display_name": "Python 3.8.5 64-bit",
   "metadata": {
    "interpreter": {
     "hash": "cc5f70855ac006f3de45a3cc3b9e7d8d53845e50458809cb162b0174266dec97"
    }
   }
  }
 },
 "nbformat": 4,
 "nbformat_minor": 2,
 "cells": [
  {
   "cell_type": "code",
   "execution_count": 1,
   "metadata": {},
   "outputs": [
    {
     "output_type": "stream",
     "name": "stdout",
     "text": [
      "d:\\school\\aai\\personalgit\\aai-jik-huijberts\\python\n"
     ]
    }
   ],
   "source": [
    "cd .."
   ]
  },
  {
   "cell_type": "code",
   "execution_count": 2,
   "metadata": {},
   "outputs": [],
   "source": [
    "from utils.matrix_helper import MatrixHelper\n",
    "import numpy as np\n",
    "m_helper = MatrixHelper()"
   ]
  },
  {
   "cell_type": "code",
   "execution_count": 3,
   "metadata": {},
   "outputs": [
    {
     "output_type": "stream",
     "name": "stdout",
     "text": [
      "[[6, 6, 6, 6], [15, 15, 15, 15]]\n"
     ]
    }
   ],
   "source": [
    "a = [[1,2,3],[4,5,6]]\n",
    "b = [[1,1,1,1],[1,1,1,1],[1,1,1,1]]\n",
    "\n",
    "print(m_helper.matMul(a,b))"
   ]
  },
  {
   "source": [
    "![./test_image.jpg](./test_image.jpg)"
   ],
   "cell_type": "markdown",
   "metadata": {}
  },
  {
   "cell_type": "code",
   "execution_count": 4,
   "metadata": {},
   "outputs": [
    {
     "output_type": "stream",
     "name": "stdout",
     "text": [
      "[[83, 63, 37, 75]]\n"
     ]
    }
   ],
   "source": [
    "a_1 = [[3,4,2]]\n",
    "b_1 = [[13,9,7,15],[8,7,4,6],[6,4,0,3]]\n",
    "print(m_helper.matMul(a_1,b_1))"
   ]
  },
  {
   "cell_type": "code",
   "execution_count": 5,
   "metadata": {},
   "outputs": [
    {
     "output_type": "stream",
     "name": "stdout",
     "text": [
      "[1, 0, 0, 0, 0]\n[0, 1, 0, 0, 0]\n[0, 0, 1, 0, 0]\n[0, 0, 0, 1, 0]\n[0, 0, 0, 0, 1]\n"
     ]
    }
   ],
   "source": [
    "identifier = m_helper.idMat(5)\n",
    "for row in identifier:\n",
    "    print(row)"
   ]
  },
  {
   "cell_type": "code",
   "execution_count": 6,
   "metadata": {},
   "outputs": [
    {
     "output_type": "stream",
     "name": "stdout",
     "text": [
      "[[ 0.25806452 -0.4516129   0.20967742]\n [-0.38709677  0.67741935 -0.06451613]\n [ 0.16129032 -0.03225806 -0.30645161]]\n[0.25806451612903225, -0.45161290322580644, 0.20967741935483872]\n[-0.3870967741935484, 0.6774193548387096, -0.06451612903225806]\n[0.16129032258064516, -0.03225806451612903, -0.3064516129032258]\n"
     ]
    }
   ],
   "source": [
    "helper_array = [[13,9,7],[8,7,4],[6,4,0]]\n",
    "inverted = m_helper.invMat([[13,9,7],[8,7,4],[6,4,0]])\n",
    "print(np.linalg.inv(helper_array))\n",
    "for row in inverted:\n",
    "    print(row)"
   ]
  },
  {
   "cell_type": "code",
   "execution_count": 7,
   "metadata": {},
   "outputs": [
    {
     "output_type": "stream",
     "name": "stdout",
     "text": [
      "18\n0\n-348\n-240\n"
     ]
    }
   ],
   "source": []
  },
  {
   "source": [
    "Used pictures:\n",
    "https://www.studypug.com/algebra-help/multiplying-a-matrix-by-another-matrix"
   ],
   "cell_type": "markdown",
   "metadata": {}
  }
 ]
}